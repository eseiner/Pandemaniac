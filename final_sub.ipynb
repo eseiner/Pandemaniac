{
 "cells": [
  {
   "cell_type": "code",
   "execution_count": 119,
   "metadata": {},
   "outputs": [],
   "source": [
    "import numpy as np\n",
    "import networkx as nx\n",
    "import json\n",
    "from collections import Counter\n",
    "import random\n",
    "import sim\n",
    "import operator\n",
    "from heapq import nlargest"
   ]
  },
  {
   "cell_type": "code",
   "execution_count": 120,
   "metadata": {},
   "outputs": [],
   "source": [
    "# Global Variables\n",
    "n = 10"
   ]
  },
  {
   "cell_type": "code",
   "execution_count": 121,
   "metadata": {},
   "outputs": [],
   "source": [
    "def get_graphs(filenames):\n",
    "    filepath = '/Users/velis.christ/Downloads/'\n",
    "    graphs = []\n",
    "    adj_lists = []\n",
    "    for filename in filenames:\n",
    "        with open(filepath+filename+\".json\") as f:\n",
    "            adj_list = json.load(f)\n",
    "        # Create a graph\n",
    "        G = nx.Graph(adj_list)\n",
    "        graphs.append(G)\n",
    "        adj_lists.append(adj_list)\n",
    "    return graphs, adj_lists"
   ]
  },
  {
   "cell_type": "code",
   "execution_count": 122,
   "metadata": {},
   "outputs": [],
   "source": [
    "def retrieve_strat_filenames(graph_filename, team_names):\n",
    "    res = []\n",
    "    for name in team_names:\n",
    "        strat_filename = graph_filename + \"-\" + name + \".json\"\n",
    "        res.append(strat_filename)\n",
    "    return res\n",
    "\n",
    "def get_strategies(filenames):\n",
    "    filepath = '/Users/velis.christ/Downloads/'\n",
    "    strategies = []\n",
    "    for filename in filenames:\n",
    "        with open(filepath+filename) as f:\n",
    "            strategy = json.load(f)\n",
    "        strategies.append(strategy)\n",
    "    return strategies"
   ]
  },
  {
   "cell_type": "code",
   "execution_count": 123,
   "metadata": {},
   "outputs": [],
   "source": [
    "def compare_all(adj_list, best_nodes, all_test_nodes):\n",
    "    results = []\n",
    "    # print(all_test_nodes)\n",
    "    for test_nodes in all_test_nodes:\n",
    "        node_mappings = dict()\n",
    "        node_mappings[\"Best\"] = best_nodes\n",
    "        node_mappings[\"Test\"] = test_nodes\n",
    "        # print(node_mappings)\n",
    "        result = sim.run(adj_list, node_mappings)\n",
    "        results.append(result)\n",
    "    return results"
   ]
  },
  {
   "cell_type": "code",
   "execution_count": 124,
   "metadata": {},
   "outputs": [],
   "source": [
    "def best_strategy(graphs, adj_lists, strategies):\n",
    "    ''' Find the best strategy (mix of centrality measures)\n",
    "        given a set of graphs and competing strategies.\n",
    "        The graphs are of the same type (e.g., SNAP)\n",
    "        \n",
    "        Inputes:\n",
    "        graphs: list of nx.Graph()\n",
    "        adj_lists: list of dict() adj_list\n",
    "        strategies: list of lists of lists '''\n",
    "\n",
    "    # Compute centralities for each graph\n",
    "    eig_cent = []\n",
    "    close_cent = []\n",
    "    triangles = []\n",
    "    for i in range(len(graphs)):\n",
    "        G = graphs[i]\n",
    "        eig_cent.append(nx.eigenvector_centrality(G))\n",
    "        close_cent.append(nx.closeness_centrality(G))\n",
    "        triangles.append(nx.triangles(G))\n",
    "\n",
    "    # Find best coefficients by trying many different coefficients\n",
    "    coeffs = []\n",
    "    scores = []\n",
    "    num_beats = []\n",
    "    for alpha in np.linspace(0,1,num=10):\n",
    "        for beta in np.linspace(0,1,num=10):\n",
    "            coeffs.append((alpha, beta))\n",
    "            our_node_mapping = {}\n",
    "            score = 0\n",
    "            num_beat = 0\n",
    "            # Iterate over each graph to compute the score of the current strategy\n",
    "            for i in range(len(graphs)):\n",
    "                G = graphs[i]\n",
    "                curr_eig_cent = eig_cent[i]\n",
    "                curr_close_cent = close_cent[i]\n",
    "                curr_triangles = triangles[i]\n",
    "                # Compute strategy's centrality scores for each node\n",
    "                for node in G.nodes():\n",
    "                    our_node_mapping[node] = alpha*curr_eig_cent[node]+beta*curr_close_cent[node]+(1-alpha-beta)*curr_triangles[node]\n",
    "                seeds = nlargest(n, our_node_mapping.items(), key=operator.itemgetter(1))\n",
    "                nodes = [j[0] for j in seeds]\n",
    "                results = compare_all(adj_lists[i], nodes, strategies[i])\n",
    "                for res in results:\n",
    "                    score += res[\"Best\"]\n",
    "                    num_beat += int(res[\"Best\"] > res[\"Test\"])\n",
    "            scores.append(score)\n",
    "            num_beats.append(num_beat)\n",
    "    max_beats = np.max(num_beats)\n",
    "    print(max_beats)\n",
    "    most_beats = [(scores[i], i) for i in range(len(num_beats)) if num_beats[i] >= max_beats]\n",
    "    best = max(most_beats, key=lambda x: x[0])\n",
    "    best_idx = best[1]\n",
    "    return num_beats, scores, best_idx, coeffs[best_idx]"
   ]
  },
  {
   "cell_type": "code",
   "execution_count": 125,
   "metadata": {},
   "outputs": [
    {
     "ename": "KeyboardInterrupt",
     "evalue": "",
     "output_type": "error",
     "traceback": [
      "\u001b[0;31m---------------------------------------------------------------------------\u001b[0m",
      "\u001b[0;31mKeyboardInterrupt\u001b[0m                         Traceback (most recent call last)",
      "Cell \u001b[0;32mIn[125], line 25\u001b[0m\n\u001b[1;32m     23\u001b[0m     strategies\u001b[39m.\u001b[39mappend(er_strategies)\n\u001b[1;32m     24\u001b[0m graphs, adj_lists \u001b[39m=\u001b[39m get_graphs(caltech_graph_filenames)\n\u001b[0;32m---> 25\u001b[0m num_beats, scores, best_idx, best_coeffs \u001b[39m=\u001b[39m best_strategy(graphs, adj_lists, strategies)\n",
      "Cell \u001b[0;32mIn[124], line 42\u001b[0m, in \u001b[0;36mbest_strategy\u001b[0;34m(graphs, adj_lists, strategies)\u001b[0m\n\u001b[1;32m     40\u001b[0m seeds \u001b[39m=\u001b[39m nlargest(n, our_node_mapping\u001b[39m.\u001b[39mitems(), key\u001b[39m=\u001b[39moperator\u001b[39m.\u001b[39mitemgetter(\u001b[39m1\u001b[39m))\n\u001b[1;32m     41\u001b[0m nodes \u001b[39m=\u001b[39m [j[\u001b[39m0\u001b[39m] \u001b[39mfor\u001b[39;00m j \u001b[39min\u001b[39;00m seeds]\n\u001b[0;32m---> 42\u001b[0m results \u001b[39m=\u001b[39m compare_all(adj_lists[i], nodes, strategies[i])\n\u001b[1;32m     43\u001b[0m \u001b[39mfor\u001b[39;00m res \u001b[39min\u001b[39;00m results:\n\u001b[1;32m     44\u001b[0m     score \u001b[39m+\u001b[39m\u001b[39m=\u001b[39m res[\u001b[39m\"\u001b[39m\u001b[39mBest\u001b[39m\u001b[39m\"\u001b[39m]\n",
      "Cell \u001b[0;32mIn[123], line 9\u001b[0m, in \u001b[0;36mcompare_all\u001b[0;34m(adj_list, best_nodes, all_test_nodes)\u001b[0m\n\u001b[1;32m      7\u001b[0m     node_mappings[\u001b[39m\"\u001b[39m\u001b[39mTest\u001b[39m\u001b[39m\"\u001b[39m] \u001b[39m=\u001b[39m test_nodes\n\u001b[1;32m      8\u001b[0m     \u001b[39m# print(node_mappings)\u001b[39;00m\n\u001b[0;32m----> 9\u001b[0m     result \u001b[39m=\u001b[39m sim\u001b[39m.\u001b[39;49mrun(adj_list, node_mappings)\n\u001b[1;32m     10\u001b[0m     results\u001b[39m.\u001b[39mappend(result)\n\u001b[1;32m     11\u001b[0m \u001b[39mreturn\u001b[39;00m results\n",
      "File \u001b[0;32m~/Documents/Caltech/Winter2023/CMS144/Pandemaniac-1/sim.py:62\u001b[0m, in \u001b[0;36mrun\u001b[0;34m(adj_list, node_mappings)\u001b[0m\n\u001b[1;32m     52\u001b[0m \u001b[39mdef\u001b[39;00m \u001b[39mrun\u001b[39m(adj_list, node_mappings):\n\u001b[1;32m     53\u001b[0m \u001b[39m  \u001b[39m\u001b[39m\"\"\"\u001b[39;00m\n\u001b[1;32m     54\u001b[0m \u001b[39m  Function: run\u001b[39;00m\n\u001b[1;32m     55\u001b[0m \u001b[39m  -------------\u001b[39;00m\n\u001b[0;32m   (...)\u001b[0m\n\u001b[1;32m     60\u001b[0m \u001b[39m                 of seed nodes associated with that name.\u001b[39;00m\n\u001b[1;32m     61\u001b[0m \u001b[39m  \"\"\"\u001b[39;00m\n\u001b[0;32m---> 62\u001b[0m   results \u001b[39m=\u001b[39m run_simulation(adj_list, node_mappings)\n\u001b[1;32m     63\u001b[0m   \u001b[39mreturn\u001b[39;00m results\n",
      "File \u001b[0;32m~/Documents/Caltech/Winter2023/CMS144/Pandemaniac-1/sim.py:91\u001b[0m, in \u001b[0;36mrun_simulation\u001b[0;34m(adj_list, node_mappings)\u001b[0m\n\u001b[1;32m     89\u001b[0m prev \u001b[39m=\u001b[39m deepcopy(node_color)\n\u001b[1;32m     90\u001b[0m \u001b[39mfor\u001b[39;00m node \u001b[39min\u001b[39;00m nodes:\n\u001b[0;32m---> 91\u001b[0m   (changed, color) \u001b[39m=\u001b[39m update(adj_list, prev, node)\n\u001b[1;32m     92\u001b[0m   \u001b[39m# Store the node's new color only if it changSed.\u001b[39;00m\n\u001b[1;32m     93\u001b[0m   \u001b[39mif\u001b[39;00m changed: node_color[node] \u001b[39m=\u001b[39m color\n",
      "File \u001b[0;32m~/Documents/Caltech/Winter2023/CMS144/Pandemaniac-1/sim.py:127\u001b[0m, in \u001b[0;36mupdate\u001b[0;34m(adj_list, node_color, node)\u001b[0m\n\u001b[1;32m    121\u001b[0m \u001b[39m\u001b[39m\u001b[39m\"\"\"\u001b[39;00m\n\u001b[1;32m    122\u001b[0m \u001b[39mFunction: update\u001b[39;00m\n\u001b[1;32m    123\u001b[0m \u001b[39m----------------\u001b[39;00m\n\u001b[1;32m    124\u001b[0m \u001b[39mUpdates each node based on its neighbors.\u001b[39;00m\n\u001b[1;32m    125\u001b[0m \u001b[39m\"\"\"\u001b[39;00m\n\u001b[1;32m    126\u001b[0m neighbors \u001b[39m=\u001b[39m adj_list[node]\n\u001b[0;32m--> 127\u001b[0m colored_neighbors \u001b[39m=\u001b[39m \u001b[39mlist\u001b[39m(\u001b[39mfilter\u001b[39m(\u001b[39mNone\u001b[39;00m, [node_color[x] \u001b[39mfor\u001b[39;00m x \u001b[39min\u001b[39;00m neighbors]))\n\u001b[1;32m    128\u001b[0m team_count \u001b[39m=\u001b[39m Counter(colored_neighbors)\n\u001b[1;32m    129\u001b[0m \u001b[39mif\u001b[39;00m node_color[node] \u001b[39mis\u001b[39;00m \u001b[39mnot\u001b[39;00m \u001b[39mNone\u001b[39;00m:\n",
      "File \u001b[0;32m~/Documents/Caltech/Winter2023/CMS144/Pandemaniac-1/sim.py:127\u001b[0m, in \u001b[0;36m<listcomp>\u001b[0;34m(.0)\u001b[0m\n\u001b[1;32m    121\u001b[0m \u001b[39m\u001b[39m\u001b[39m\"\"\"\u001b[39;00m\n\u001b[1;32m    122\u001b[0m \u001b[39mFunction: update\u001b[39;00m\n\u001b[1;32m    123\u001b[0m \u001b[39m----------------\u001b[39;00m\n\u001b[1;32m    124\u001b[0m \u001b[39mUpdates each node based on its neighbors.\u001b[39;00m\n\u001b[1;32m    125\u001b[0m \u001b[39m\"\"\"\u001b[39;00m\n\u001b[1;32m    126\u001b[0m neighbors \u001b[39m=\u001b[39m adj_list[node]\n\u001b[0;32m--> 127\u001b[0m colored_neighbors \u001b[39m=\u001b[39m \u001b[39mlist\u001b[39m(\u001b[39mfilter\u001b[39m(\u001b[39mNone\u001b[39;00m, [node_color[x] \u001b[39mfor\u001b[39;00m x \u001b[39min\u001b[39;00m neighbors]))\n\u001b[1;32m    128\u001b[0m team_count \u001b[39m=\u001b[39m Counter(colored_neighbors)\n\u001b[1;32m    129\u001b[0m \u001b[39mif\u001b[39;00m node_color[node] \u001b[39mis\u001b[39;00m \u001b[39mnot\u001b[39;00m \u001b[39mNone\u001b[39;00m:\n",
      "\u001b[0;31mKeyboardInterrupt\u001b[0m: "
     ]
    }
   ],
   "source": [
    "# team_names = [\"LMNOP\", \"ModeloTime\", \"NetworkX\", \"_EAA\", \"_eek\", \"alley5\", \"pareto\", \\\n",
    "#     \"Charlemagne\", \"NoSleepAtAll\", \"_NKS\", \"_pe2\", \"LongTailedBeavers\", \"covid_23\"]\n",
    "\n",
    "# team_names = [\"_EAA\", \"ModeloTime\", \"NoSleepAtAll\", \"alley5\"]\n",
    "\n",
    "team_names = [\"_EAA\", \"NoSleepAtAll\", \"alley5\"]\n",
    "\n",
    "# Graph filenames\n",
    "er_graph_filenames = [\"RR.10.12\", \"RR.10.13\", \"RR.10.14\"]\n",
    "pa_graph_filenames = [\"RR.10.23\", \"RR.10.24\"]\n",
    "ssbm_graph_filenames = [\"RR.10.32\", \"RR.10.33\", \"RR.10.34\"]\n",
    "caltech_graph_filenames = [\"RR.10.42\", \"RR.20.43\", \"RR.15.44\"]\n",
    "snap_graph_filenames = [\"RR.10.52\", \"RR.10.53\", \"RR.10.54\"]\n",
    "\n",
    "# Strategies\n",
    "strategies = []\n",
    "for graph_filename in caltech_graph_filenames:\n",
    "    er_strategies = []\n",
    "    strategy_filenames = retrieve_strat_filenames(graph_filename, team_names)\n",
    "    strats = get_strategies(strategy_filenames)\n",
    "    for strat in strats:\n",
    "        er_strategies.append(list(strat.values())[0][0][:10])\n",
    "    strategies.append(er_strategies)\n",
    "graphs, adj_lists = get_graphs(caltech_graph_filenames)\n",
    "num_beats, scores, best_idx, best_coeffs = best_strategy(graphs, adj_lists, strategies)"
   ]
  },
  {
   "cell_type": "code",
   "execution_count": null,
   "metadata": {},
   "outputs": [
    {
     "name": "stdout",
     "output_type": "stream",
     "text": [
      "[1, 1, 1, 1, 1, 1, 1, 1, 1, 2, 1, 1, 1, 1, 1, 1, 1, 1, 2, 0, 1, 1, 1, 1, 1, 1, 1, 2, 0, 0, 1, 1, 1, 1, 1, 1, 2, 0, 0, 0, 1, 1, 1, 1, 1, 2, 0, 0, 0, 0, 1, 1, 1, 1, 2, 0, 0, 0, 0, 0, 1, 1, 1, 2, 0, 0, 0, 0, 0, 0, 1, 1, 2, 0, 0, 0, 0, 0, 0, 0, 1, 1, 0, 0, 0, 0, 0, 0, 0, 0, 1, 0, 0, 0, 0, 0, 0, 0, 0, 0]\n",
      "[1072, 1072, 1072, 1072, 1072, 1072, 1072, 1072, 1072, 1080, 1072, 1072, 1072, 1072, 1072, 1072, 1072, 1072, 1301, 91, 1072, 1072, 1072, 1072, 1072, 1072, 1072, 1272, 91, 91, 1072, 1072, 1072, 1072, 1072, 1072, 1272, 91, 91, 91, 1072, 1072, 1072, 1072, 1072, 1517, 91, 91, 91, 91, 1072, 1072, 1072, 1072, 1517, 91, 91, 91, 91, 91, 1072, 1072, 1072, 1506, 91, 91, 91, 91, 91, 91, 1072, 1072, 1476, 91, 91, 91, 91, 91, 91, 91, 1072, 1346, 90, 91, 91, 91, 91, 91, 91, 91, 1346, 90, 90, 90, 91, 91, 91, 91, 91, 91]\n",
      "45\n",
      "(0.4444444444444444, 0.5555555555555556)\n",
      "1517\n",
      "2\n"
     ]
    }
   ],
   "source": [
    "print(num_beats)\n",
    "print(scores)\n",
    "print(best_idx)\n",
    "print(best_coeffs)\n",
    "print(scores[best_idx])\n",
    "print(num_beats[best_idx])"
   ]
  }
 ],
 "metadata": {
  "kernelspec": {
   "display_name": "Python 3",
   "language": "python",
   "name": "python3"
  },
  "language_info": {
   "codemirror_mode": {
    "name": "ipython",
    "version": 3
   },
   "file_extension": ".py",
   "mimetype": "text/x-python",
   "name": "python",
   "nbconvert_exporter": "python",
   "pygments_lexer": "ipython3",
   "version": "3.9.6"
  },
  "orig_nbformat": 4,
  "vscode": {
   "interpreter": {
    "hash": "31f2aee4e71d21fbe5cf8b01ff0e069b9275f58929596ceb00d14d90e3e16cd6"
   }
  }
 },
 "nbformat": 4,
 "nbformat_minor": 2
}
