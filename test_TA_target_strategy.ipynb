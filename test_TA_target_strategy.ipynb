{
 "cells": [
  {
   "cell_type": "code",
   "execution_count": 28,
   "metadata": {},
   "outputs": [],
   "source": [
    "import numpy as np\n",
    "import networkx as nx\n",
    "import json\n",
    "from collections import Counter\n",
    "import random\n",
    "import sim\n",
    "import operator\n",
    "from heapq import nlargest"
   ]
  },
  {
   "cell_type": "code",
   "execution_count": 73,
   "metadata": {},
   "outputs": [],
   "source": [
    "n = 10\n",
    "\n",
    "# Load JSON file\n",
    "# Change to appropriate graph\n",
    "filepath = '/Users/velis.christ/Downloads/'\n",
    "filename50 = 'RR.10.50.json'\n",
    "with open(filepath+filename50) as f:\n",
    "    adj_list50 = json.load(f)\n",
    "\n",
    "# Create a graph\n",
    "G50 = nx.Graph(adj_list50)\n",
    "\n",
    "filename51 = 'RR.10.51.json'\n",
    "with open(filepath+filename51) as f:\n",
    "    adj_list51 = json.load(f)\n",
    "\n",
    "# Create a graph\n",
    "G51 = nx.Graph(adj_list51)"
   ]
  },
  {
   "cell_type": "code",
   "execution_count": null,
   "metadata": {},
   "outputs": [],
   "source": [
    "def triangle_algo(n,G):\n",
    "    centralities_dict = nx.triangles(G)\n",
    "    sorted_centralities = nlargest(n, centralities_dict.items(), key=operator.itemgetter(1))\n",
    "    node_keys = [i[0] for i in sorted_centralities]\n",
    "    #  ans = sorted(centralities_dict, reverse=True)\n",
    "    return node_keys"
   ]
  },
  {
   "cell_type": "code",
   "execution_count": null,
   "metadata": {},
   "outputs": [],
   "source": [
    "def closeness_algo(n,G):\n",
    "    centralities_dict = nx.closeness_centrality(G)\n",
    "    sorted_centralities = nlargest(n, centralities_dict.items(), key=operator.itemgetter(1))\n",
    "    node_keys = [i[0] for i in sorted_centralities]\n",
    "    #  ans = sorted(centralities_dict, reverse=True)\n",
    "    return node_keys"
   ]
  },
  {
   "cell_type": "code",
   "execution_count": null,
   "metadata": {},
   "outputs": [],
   "source": [
    "cent_dict = nx.closeness_centrality(G)"
   ]
  },
  {
   "cell_type": "code",
   "execution_count": 128,
   "metadata": {},
   "outputs": [],
   "source": [
    "filepath = '/Users/velis.christ/Downloads/'\n",
    "def compare_test(adj_list,filename,our_nodes):\n",
    "    with open(filepath+filename) as f:\n",
    "        nodes_TA = json.load(f)\n",
    "    node_mappings = dict()\n",
    "    node_mappings[\"TA\"] = nodes_TA['TA_target'][1]\n",
    "    node_mappings[\"JYP\"] = our_nodes\n",
    "    results = sim.run(adj_list, node_mappings)\n",
    "    #print(results)\n",
    "    return results"
   ]
  },
  {
   "cell_type": "code",
   "execution_count": 106,
   "metadata": {},
   "outputs": [],
   "source": [
    "def compare_best(adj_list, best_seeds, test_seeds):\n",
    "    node_mappings = dict()\n",
    "    node_mappings[\"Best\"] = best_seeds\n",
    "    node_mappings[\"Test\"] = test_seeds\n",
    "    results = sim.run(adj_list, node_mappings)\n",
    "    return results"
   ]
  },
  {
   "cell_type": "code",
   "execution_count": 131,
   "metadata": {},
   "outputs": [],
   "source": [
    "def best_strategy(G50, G51):\n",
    "    # functions are eigenvector, closeness, triangle\n",
    "    # returns tuples (a,b), where a*eigenvector+b*closeness+(1-a-b)*triangle that beat both 50 and 51\n",
    "    filepath = '/Users/velis.christ/Downloads/'\n",
    "    filename50 = 'RR.10.50-TA_target.json'\n",
    "    with open(filepath+filename50) as f:\n",
    "        nodes_TA = json.load(f)\n",
    "    node_mappings50 = dict()\n",
    "    node_mappings50[\"TA\"] = nodes_TA['TA_target'][1]\n",
    "    filename51 = 'RR.10.51-TA_target.json'\n",
    "    with open(filepath+filename51) as f:\n",
    "        nodes_TA = json.load(f)\n",
    "    node_mappings51 = dict()\n",
    "    node_mappings51[\"TA\"] = nodes_TA['TA_target'][1]\n",
    "\n",
    "    eig_cent50 = nx.eigenvector_centrality(G50)\n",
    "    close_cent50 = nx.closeness_centrality(G50)\n",
    "    triangles50 = nx.triangles(G50)\n",
    "    \n",
    "    eig_cent51 = nx.eigenvector_centrality(G51)\n",
    "    close_cent51 = nx.closeness_centrality(G51)\n",
    "    triangles51 = nx.triangles(G51)\n",
    "\n",
    "    vals = []\n",
    "    for alpha in np.linspace(0,1,num=30):\n",
    "        for beta in np.linspace(0,1,num=30):\n",
    "            our_node_mapping50 = {}\n",
    "            for node in G50.nodes():\n",
    "                our_node_mapping50[node] = alpha*eig_cent50[node]+beta*close_cent50[node]+(1-alpha-beta)*triangles50[node]\n",
    "            seeds50 = nlargest(n, our_node_mapping50.items(), key=operator.itemgetter(1))\n",
    "            nodes50 = [i[0] for i in seeds50]\n",
    "            result50 = compare_test(adj_list50,filename50,nodes50)\n",
    "\n",
    "            our_node_mapping51 = {}\n",
    "            for node in G51.nodes():\n",
    "                our_node_mapping51[node] = alpha*eig_cent51[node]+beta*close_cent51[node]+(1-alpha-beta)*triangles51[node]\n",
    "            seeds51 = nlargest(n, our_node_mapping51.items(), key=operator.itemgetter(1))\n",
    "            nodes51 = [i[0] for i in seeds51]\n",
    "            result51 = compare_test(adj_list51,filename51,nodes51)\n",
    "            ta50, our50 = result50[\"TA\"], result50[\"JYP\"]\n",
    "            ta51, our51 = result51[\"TA\"], result51[\"JYP\"]\n",
    "            if our50 > ta50 and our51 > ta51:\n",
    "                vals.append((alpha,beta))\n",
    "    return vals"
   ]
  },
  {
   "cell_type": "code",
   "execution_count": 126,
   "metadata": {},
   "outputs": [],
   "source": [
    "def optimize(best_strategy, adj_list50, adj_list51):\n",
    "    ''' Optimize coeffs (alpha, beta) against best_strategy on graph G '''\n",
    "    triangles50 = nx.triangles(G50)\n",
    "    eig_cent50 = nx.eigenvector_centrality(G50)\n",
    "    close_cent50 = nx.closeness_centrality(G50)\n",
    "\n",
    "    triangles51 = nx.triangles(G51)\n",
    "    eig_cent51 = nx.eigenvector_centrality(G51)\n",
    "    close_cent51 = nx.closeness_centrality(G51)\n",
    "    \n",
    "    max_score = 0\n",
    "    best_alpha = best_strategy[0]\n",
    "    best_beta = best_strategy[1]\n",
    "\n",
    "    og_best_mapping50 = dict()\n",
    "    for node in G50.nodes():\n",
    "        og_best_mapping50[node] = best_alpha*eig_cent50[node]+best_beta*close_cent50[node]+(1-best_alpha-best_beta)*triangles50[node]\n",
    "    \n",
    "    og_best_mapping51 = dict()\n",
    "    for node in G51.nodes():\n",
    "        og_best_mapping51[node] = best_alpha*eig_cent51[node]+best_beta*close_cent51[node]+(1-best_alpha-best_beta)*triangles51[node]\n",
    "\n",
    "    best_seeds50 = nlargest(n, og_best_mapping50.items(), key=operator.itemgetter(1))\n",
    "    best_nodes50 = [i[0] for i in best_seeds50]\n",
    "    best_seeds51 = nlargest(n, og_best_mapping51.items(), key=operator.itemgetter(1))\n",
    "    best_nodes51 = [i[0] for i in best_seeds51]\n",
    "\n",
    "    for alpha in np.linspace(0,1,num=10):\n",
    "        for beta in np.linspace(0,1,num=10):\n",
    "            our_node_mapping50 = {}\n",
    "            for node in G50.nodes():\n",
    "                our_node_mapping50[node] = alpha*eig_cent50[node]+beta*close_cent50[node]+(1-alpha-beta)*triangles50[node]\n",
    "            seeds50 = nlargest(n, our_node_mapping50.items(), key=operator.itemgetter(1))\n",
    "            nodes50 = [i[0] for i in seeds50]\n",
    "            result50 = compare_best(adj_list50,best_nodes50,nodes50)\n",
    "\n",
    "            our_node_mapping51 = {}\n",
    "            for node in G51.nodes():\n",
    "                our_node_mapping51[node] = alpha*eig_cent51[node]+beta*close_cent51[node]+(1-alpha-beta)*triangles51[node]\n",
    "            seeds51 = nlargest(n, our_node_mapping51.items(), key=operator.itemgetter(1))\n",
    "            nodes51 = [i[0] for i in seeds51]\n",
    "            result51 = compare_best(adj_list51,best_nodes51,nodes51)\n",
    "            our50 = result50[\"Test\"]\n",
    "            our51 = result51[\"Test\"]\n",
    "\n",
    "            if our50 + our51 > max_score:\n",
    "                max_score = our50 + our51\n",
    "                best_alpha = alpha\n",
    "                best_beta = beta\n",
    "    return best_alpha, best_beta"
   ]
  },
  {
   "cell_type": "code",
   "execution_count": 132,
   "metadata": {},
   "outputs": [
    {
     "name": "stdout",
     "output_type": "stream",
     "text": [
      "[(0.13793103448275862, 0.8620689655172413), (0.1724137931034483, 0.8275862068965517), (0.20689655172413793, 0.7931034482758621), (0.24137931034482757, 0.7586206896551724)]\n"
     ]
    }
   ],
   "source": [
    "tuples = best_strategy(G50, G51)\n",
    "print(tuples)"
   ]
  },
  {
   "cell_type": "code",
   "execution_count": 138,
   "metadata": {},
   "outputs": [
    {
     "name": "stdout",
     "output_type": "stream",
     "text": [
      "{'TA': 211, 'JYP': 285}\n",
      "{'TA': 10, 'JYP': 490}\n"
     ]
    }
   ],
   "source": [
    "triangles50 = nx.triangles(G50)\n",
    "eig_cent50 = nx.eigenvector_centrality(G50)\n",
    "close_cent50 = nx.closeness_centrality(G50)\n",
    "\n",
    "triangles51 = nx.triangles(G51)\n",
    "eig_cent51 = nx.eigenvector_centrality(G51)\n",
    "close_cent51 = nx.closeness_centrality(G51)\n",
    "\n",
    "filename50 = 'RR.10.50-TA_target.json'\n",
    "filename51 = 'RR.10.51-TA_target.json'\n",
    "\n",
    "alpha, beta = tuples[1]\n",
    "our_node_mapping50 = {}\n",
    "for node in G50.nodes():\n",
    "    our_node_mapping50[node] = alpha*eig_cent50[node]+beta*close_cent50[node]+(1-alpha-beta)*triangles50[node]\n",
    "seeds50 = nlargest(n, our_node_mapping50.items(), key=operator.itemgetter(1))\n",
    "nodes50 = [i[0] for i in seeds50]\n",
    "result50 = compare_test(adj_list50,filename50,nodes50)\n",
    "\n",
    "our_node_mapping51 = {}\n",
    "for node in G51.nodes():\n",
    "    our_node_mapping51[node] = alpha*eig_cent51[node]+beta*close_cent51[node]+(1-alpha-beta)*triangles51[node]\n",
    "seeds51 = nlargest(n, our_node_mapping51.items(), key=operator.itemgetter(1))\n",
    "nodes51 = [i[0] for i in seeds51]\n",
    "result51 = compare_test(adj_list51,filename51,nodes51)\n",
    "\n",
    "print(result50)\n",
    "print(result51)\n"
   ]
  },
  {
   "cell_type": "code",
   "execution_count": 108,
   "metadata": {},
   "outputs": [
    {
     "ename": "NameError",
     "evalue": "name 'node_mappings' is not defined",
     "output_type": "error",
     "traceback": [
      "\u001b[0;31m---------------------------------------------------------------------------\u001b[0m",
      "\u001b[0;31mNameError\u001b[0m                                 Traceback (most recent call last)",
      "Cell \u001b[0;32mIn[108], line 1\u001b[0m\n\u001b[0;32m----> 1\u001b[0m \u001b[39mprint\u001b[39m(node_mappings)\n",
      "\u001b[0;31mNameError\u001b[0m: name 'node_mappings' is not defined"
     ]
    }
   ],
   "source": []
  },
  {
   "cell_type": "code",
   "execution_count": 116,
   "metadata": {},
   "outputs": [
    {
     "name": "stdout",
     "output_type": "stream",
     "text": [
      "(0.6666666666666666, 0.3333333333333333)\n"
     ]
    }
   ],
   "source": [
    "print(optimize(tuples[0], adj_list50, adj_list51))\n",
    "\n",
    "compare_test(adj_list50, )"
   ]
  }
 ],
 "metadata": {
  "kernelspec": {
   "display_name": "Python 3",
   "language": "python",
   "name": "python3"
  },
  "language_info": {
   "codemirror_mode": {
    "name": "ipython",
    "version": 3
   },
   "file_extension": ".py",
   "mimetype": "text/x-python",
   "name": "python",
   "nbconvert_exporter": "python",
   "pygments_lexer": "ipython3",
   "version": "3.9.6"
  },
  "orig_nbformat": 4,
  "vscode": {
   "interpreter": {
    "hash": "31f2aee4e71d21fbe5cf8b01ff0e069b9275f58929596ceb00d14d90e3e16cd6"
   }
  }
 },
 "nbformat": 4,
 "nbformat_minor": 2
}
