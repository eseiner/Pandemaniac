{
 "cells": [
  {
   "cell_type": "code",
   "execution_count": 55,
   "metadata": {},
   "outputs": [],
   "source": [
    "import numpy as np\n",
    "import networkx as nx\n",
    "import json\n",
    "from collections import Counter\n",
    "import random\n",
    "import sim\n",
    "import operator\n",
    "from heapq import nlargest"
   ]
  },
  {
   "cell_type": "code",
   "execution_count": 56,
   "metadata": {},
   "outputs": [],
   "source": [
    "n = 10\n",
    "\n",
    "# Load JSON file\n",
    "# Change to appropriate graph\n",
    "filepath = '/Users/velis.christ/Downloads/'\n",
    "filename = 'J.10.12.json'\n",
    "with open(filepath+filename) as f:\n",
    "    adj_list = json.load(f)\n",
    "\n",
    "# Create a graph\n",
    "G = nx.Graph(adj_list)"
   ]
  },
  {
   "cell_type": "code",
   "execution_count": 57,
   "metadata": {},
   "outputs": [],
   "source": [
    "alpha, beta = (0.1724137931034483, 0.8275862068965517)\n",
    "eig_cent = nx.eigenvector_centrality(G)\n",
    "close_cent = nx.closeness_centrality(G)\n",
    "triangles = nx.triangles(G)\n",
    "our_node_mapping = {}\n",
    "for node in G.nodes():\n",
    "    our_node_mapping[node] = alpha*eig_cent[node]+beta*close_cent[node]+(1-alpha-beta)*triangles[node]\n",
    "seeds = nlargest(n, our_node_mapping.items(), key=operator.itemgetter(1))\n",
    "nodes = [i[0] for i in seeds]"
   ]
  },
  {
   "cell_type": "code",
   "execution_count": 58,
   "metadata": {},
   "outputs": [],
   "source": [
    "res = \"\"\n",
    "line = \"\"\n",
    "for node in nodes:\n",
    "    line += (node + \"\\n\")\n",
    "for i in range(50):\n",
    "    res += line"
   ]
  },
  {
   "cell_type": "code",
   "execution_count": 59,
   "metadata": {},
   "outputs": [],
   "source": [
    "# Open the file for writing\n",
    "#with open(\"RR.10.50.txt\", \"w\") as f:\n",
    "with open(\"day3_submission.txt\", \"w\") as f:\n",
    "    # Write the string to the file\n",
    "    f.write(res)"
   ]
  }
 ],
 "metadata": {
  "kernelspec": {
   "display_name": "Python 3",
   "language": "python",
   "name": "python3"
  },
  "language_info": {
   "codemirror_mode": {
    "name": "ipython",
    "version": 3
   },
   "file_extension": ".py",
   "mimetype": "text/x-python",
   "name": "python",
   "nbconvert_exporter": "python",
   "pygments_lexer": "ipython3",
   "version": "3.9.6"
  },
  "orig_nbformat": 4,
  "vscode": {
   "interpreter": {
    "hash": "31f2aee4e71d21fbe5cf8b01ff0e069b9275f58929596ceb00d14d90e3e16cd6"
   }
  }
 },
 "nbformat": 4,
 "nbformat_minor": 2
}
