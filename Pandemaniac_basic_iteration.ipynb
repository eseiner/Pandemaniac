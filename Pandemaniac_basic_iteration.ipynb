{
  "cells": [
    {
      "cell_type": "code",
      "execution_count": 1,
      "metadata": {
        "colab": {
          "base_uri": "https://localhost:8080/"
        },
        "id": "Py1-wu0rIVpK",
        "outputId": "73d86b2d-62c2-43fc-c512-7e254ba50ba5"
      },
      "outputs": [
        {
          "name": "stdout",
          "output_type": "stream",
          "text": [
            "Mounted at /content/drive\n"
          ]
        }
      ],
      "source": [
        "from google.colab import drive\n",
        "import pandas as pd\n",
        "import numpy as np\n",
        "import matplotlib.pyplot as plt\n",
        "import networkx as nx\n",
        "import json\n",
        "from collections import Counter\n",
        "drive.mount('/content/drive')"
      ]
    },
    {
      "cell_type": "code",
      "execution_count": 2,
      "metadata": {
        "id": "q2IuRw1IJlSx"
      },
      "outputs": [],
      "source": [
        "!cd drive"
      ]
    },
    {
      "cell_type": "code",
      "execution_count": 3,
      "metadata": {
        "colab": {
          "base_uri": "https://localhost:8080/"
        },
        "id": "8nXWD5D7JweW",
        "outputId": "57dc56d6-8294-4062-af91-91ac7b309847"
      },
      "outputs": [
        {
          "name": "stdout",
          "output_type": "stream",
          "text": [
            "/content/drive\n"
          ]
        }
      ],
      "source": [
        "cd drive"
      ]
    },
    {
      "cell_type": "code",
      "execution_count": 4,
      "metadata": {
        "colab": {
          "base_uri": "https://localhost:8080/"
        },
        "id": "5ovpjBeKJxNE",
        "outputId": "c2074cff-95cb-46a6-96c3-84c1962c45ee"
      },
      "outputs": [
        {
          "name": "stdout",
          "output_type": "stream",
          "text": [
            "/content/drive/MyDrive\n"
          ]
        }
      ],
      "source": [
        "cd MyDrive"
      ]
    },
    {
      "cell_type": "code",
      "execution_count": 5,
      "metadata": {
        "id": "ZzAhZinqJz0M"
      },
      "outputs": [],
      "source": [
        "sample_graphs = [\"J.5.1.json\",\"RR.5.1.json\"]"
      ]
    },
    {
      "cell_type": "code",
      "execution_count": 46,
      "metadata": {
        "id": "WOuQHoZwL4zw"
      },
      "outputs": [],
      "source": [
        "def get_seeds(N, filename):\n",
        "  \"\"\"\n",
        "  A function to get N seeds for a graph given by filename\n",
        "\n",
        "  N: the number of seeds for a graph\n",
        "  filename: the filename for (in json format) for the graph representation\n",
        "  \"\"\"\n",
        "  with open(filename,\"r\") as f:\n",
        "    data = f.read()\n",
        "  adj = json.loads(data)\n",
        "  G = nx.Graph(adj)\n",
        "  # Return every node if N is greater than the number of nodes in the graph\n",
        "  if N >= len(list(G.nodes())):\n",
        "    return list(G.nodes())\n",
        "  \n",
        "  # Rough idea is to find all components, put at least one in each, then scale based on size of each\n",
        "  comps = sorted(nx.connected_components(G), key=len, reverse=True)\n",
        "  comp_len = [len(c) for c in comps]\n",
        "\n",
        "  # Iterate through each connected component and select the vertex with the highest centrality measure\n",
        "  # Closeness centrality selected off of very little thought\n",
        "  ans = []\n",
        "  if len(comp_len) >= N:\n",
        "    for idx in range(len(comp_len)):\n",
        "      component = comps[idx]\n",
        "      vals = nx.closeness_centrality(G.subgraph(component))\n",
        "      for k,v in Counter.most_common(vals,1):\n",
        "        ans.append(k)\n",
        "      '''\n",
        "      vmax = 0\n",
        "      kidx = 0\n",
        "      for k,v in vals:\n",
        "        if v > vmax:\n",
        "          kidx = k\n",
        "      '''\n",
        "\n",
        "  # If there are more components in one than the other, put all in largest (temporary idea)\n",
        "  # Better idea may be to put a proportional number of nodes per component size after 1 in each\n",
        "  else:\n",
        "    num_extra = N - len(comp_len)\n",
        "    curr_taken = 0\n",
        "    for component in comps:\n",
        "      vals = nx.closeness_centrality(G.subgraph(component))\n",
        "      nodes = list(G.subgraph(component).nodes())\n",
        "      comp_size = len(nodes) # size of component\n",
        "      # Extra nodes added to components already, take highest in component\n",
        "      if curr_taken == num_extra:\n",
        "        for k,v in Counter.most_common(vals,1):\n",
        "          ans.append(k)\n",
        "      # Component doesn't have enough nodes to fill N\n",
        "      elif (comp_size-1) < (num_extra-curr_taken):\n",
        "        # Just add every node\n",
        "        for node in nodes:\n",
        "          ans.append(node)\n",
        "        curr_taken += comp_size-1\n",
        "      else:\n",
        "        for k,v in Counter.most_common(vals, num_extra-curr_taken+1):\n",
        "          ans.append(k)\n",
        "        curr_taken += num_extra-curr_taken\n",
        "    \n",
        "  if len(ans) != N:\n",
        "    print(\"Something went wrong\")\n",
        "  return ans"
      ]
    },
    {
      "cell_type": "code",
      "execution_count": 47,
      "metadata": {
        "colab": {
          "base_uri": "https://localhost:8080/"
        },
        "id": "7_ATfHSxR3-m",
        "outputId": "01b4c00f-0ff1-48ec-e53d-b167c0bc215f"
      },
      "outputs": [
        {
          "name": "stdout",
          "output_type": "stream",
          "text": [
            "['2', '10', '9', '17', '33', '8', '13', '92', '75', '11', '0', '91', '16', '56', '60', '50', '6', '25', '72', '89', '1', '77', '4', '3', '57', '7', '19', '88', '48', '113', '76', '15', '80', '83', '26', '69', '65', '98', '129', '124', '143', '5', '90', '27', '85', '53', '74', '20', '44', '196']\n",
            "50\n",
            "['11', '21', '33', '23', '30', '51', '39', '28', '13', '41', '43', '50', '40', '37', '56', '70', '34', '48', '71', '1', '83', '3', '12', '44', '65', '24', '4', '36', '38', '74', '42', '47', '53', '58', '84', '52', '76', '17', '77', '85', '18', '10', '49', '66', '97', '14', '16', '45', '87', '25']\n",
            "50\n"
          ]
        }
      ],
      "source": [
        "N = 50\n",
        "for sample in sample_graphs:\n",
        "  ans = get_seeds(50,sample)\n",
        "  print(ans)\n",
        "  print(len(ans))"
      ]
    },
    {
      "cell_type": "code",
      "execution_count": 7,
      "metadata": {
        "id": "m-Q44ZJdR9g-"
      },
      "outputs": [],
      "source": []
    }
  ],
  "metadata": {
    "colab": {
      "provenance": []
    },
    "kernelspec": {
      "display_name": "Python 3",
      "language": "python",
      "name": "python3"
    },
    "language_info": {
      "name": "python",
      "version": "3.9.6"
    },
    "vscode": {
      "interpreter": {
        "hash": "31f2aee4e71d21fbe5cf8b01ff0e069b9275f58929596ceb00d14d90e3e16cd6"
      }
    }
  },
  "nbformat": 4,
  "nbformat_minor": 0
}
