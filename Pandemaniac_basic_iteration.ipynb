{
  "nbformat": 4,
  "nbformat_minor": 0,
  "metadata": {
    "colab": {
      "provenance": []
    },
    "kernelspec": {
      "name": "python3",
      "display_name": "Python 3"
    },
    "language_info": {
      "name": "python"
    }
  },
  "cells": [
    {
      "cell_type": "code",
      "execution_count": 1,
      "metadata": {
        "id": "Py1-wu0rIVpK",
        "colab": {
          "base_uri": "https://localhost:8080/"
        },
        "outputId": "73d86b2d-62c2-43fc-c512-7e254ba50ba5"
      },
      "outputs": [
        {
          "output_type": "stream",
          "name": "stdout",
          "text": [
            "Mounted at /content/drive\n"
          ]
        }
      ],
      "source": [
        "from google.colab import drive\n",
        "import pandas as pd\n",
        "import numpy as np\n",
        "import matplotlib.pyplot as plt\n",
        "import networkx as nx\n",
        "import json\n",
        "from collections import Counter\n",
        "drive.mount('/content/drive')"
      ]
    },
    {
      "cell_type": "code",
      "source": [
        "!cd drive"
      ],
      "metadata": {
        "id": "q2IuRw1IJlSx"
      },
      "execution_count": 2,
      "outputs": []
    },
    {
      "cell_type": "code",
      "source": [
        "cd drive"
      ],
      "metadata": {
        "colab": {
          "base_uri": "https://localhost:8080/"
        },
        "id": "8nXWD5D7JweW",
        "outputId": "57dc56d6-8294-4062-af91-91ac7b309847"
      },
      "execution_count": 3,
      "outputs": [
        {
          "output_type": "stream",
          "name": "stdout",
          "text": [
            "/content/drive\n"
          ]
        }
      ]
    },
    {
      "cell_type": "code",
      "source": [
        "cd MyDrive"
      ],
      "metadata": {
        "colab": {
          "base_uri": "https://localhost:8080/"
        },
        "id": "5ovpjBeKJxNE",
        "outputId": "c2074cff-95cb-46a6-96c3-84c1962c45ee"
      },
      "execution_count": 4,
      "outputs": [
        {
          "output_type": "stream",
          "name": "stdout",
          "text": [
            "/content/drive/MyDrive\n"
          ]
        }
      ]
    },
    {
      "cell_type": "code",
      "source": [
        "sample_graphs = [\"J.5.1.json\",\"RR.5.1.json\"]"
      ],
      "metadata": {
        "id": "ZzAhZinqJz0M"
      },
      "execution_count": 5,
      "outputs": []
    },
    {
      "cell_type": "code",
      "source": [
        "def get_seeds(N, filename):\n",
        "  \"\"\"\n",
        "  A function to get N seeds for a graph given by filename\n",
        "\n",
        "  N: the number of seeds for a graph\n",
        "  filename: the filename for (in json format) for the graph representation\n",
        "  \"\"\"\n",
        "  with open(filename,\"r\") as f:\n",
        "    data = f.read()\n",
        "  adj = json.loads(data)\n",
        "  G = nx.Graph(adj)\n",
        "  # Return every node if N is greater than the number of nodes in the graph\n",
        "  if N >= len(list(G.nodes())):\n",
        "    return list(G.nodes())\n",
        "  \n",
        "  # Rough idea is to find all components, put at least one in each, then scale based on size of each\n",
        "  comps = sorted(nx.connected_components(G), key=len, reverse=True)\n",
        "  comp_len = [len(c) for c in comps]\n",
        "\n",
        "  # Iterate through each connected component and select the vertex with the highest centrality measure\n",
        "  # Closeness centrality selected off of very little thought\n",
        "  ans = []\n",
        "  if len(comp_len) >= N:\n",
        "    for idx in range(len(comp_len)):\n",
        "      component = comps[idx]\n",
        "      vals = nx.closeness_centrality(G.subgraph(component))\n",
        "      for k,v in Counter.most_common(vals,1):\n",
        "        ans.append(k)\n",
        "      '''\n",
        "      vmax = 0\n",
        "      kidx = 0\n",
        "      for k,v in vals:\n",
        "        if v > vmax:\n",
        "          kidx = k\n",
        "      '''\n",
        "\n",
        "  # If there are more components in one than the other, put all in largest (temporary idea)\n",
        "  # Better idea may be to put a proportional number of nodes per component size after 1 in each\n",
        "  else:\n",
        "    num_extra = N - len(comp_len)\n",
        "    curr_taken = 0\n",
        "    for component in comps:\n",
        "      vals = nx.closeness_centrality(G.subgraph(component))\n",
        "      nodes = list(G.subgraph(component).nodes())\n",
        "      comp_size = len(nodes) # size of component\n",
        "      # Extra nodes added to components already, take highest in component\n",
        "      if curr_taken == num_extra:\n",
        "        for k,v in Counter.most_common(vals,1):\n",
        "          ans.append(k)\n",
        "      # Component doesn't have enough nodes to fill N\n",
        "      elif (comp_size-1) < (num_extra-curr_taken):\n",
        "        # Just add every node\n",
        "        for node in nodes:\n",
        "          ans.append(node)\n",
        "        curr_taken += comp_size-1\n",
        "      else:\n",
        "        for k,v in Counter.most_common(vals, num_extra-curr_taken+1):\n",
        "          ans.append(k)\n",
        "        curr_taken += num_extra-curr_taken\n",
        "    \n",
        "  if len(ans) != N:\n",
        "    print(\"Something went wrong\")\n",
        "  return ans"
      ],
      "metadata": {
        "id": "WOuQHoZwL4zw"
      },
      "execution_count": 46,
      "outputs": []
    },
    {
      "cell_type": "code",
      "source": [
        "N = 50\n",
        "for sample in sample_graphs:\n",
        "  ans = get_seeds(50,sample)\n",
        "  print(ans)\n",
        "  print(len(ans))"
      ],
      "metadata": {
        "colab": {
          "base_uri": "https://localhost:8080/"
        },
        "id": "7_ATfHSxR3-m",
        "outputId": "01b4c00f-0ff1-48ec-e53d-b167c0bc215f"
      },
      "execution_count": 47,
      "outputs": [
        {
          "output_type": "stream",
          "name": "stdout",
          "text": [
            "['2', '10', '9', '17', '33', '8', '13', '92', '75', '11', '0', '91', '16', '56', '60', '50', '6', '25', '72', '89', '1', '77', '4', '3', '57', '7', '19', '88', '48', '113', '76', '15', '80', '83', '26', '69', '65', '98', '129', '124', '143', '5', '90', '27', '85', '53', '74', '20', '44', '196']\n",
            "50\n",
            "['11', '21', '33', '23', '30', '51', '39', '28', '13', '41', '43', '50', '40', '37', '56', '70', '34', '48', '71', '1', '83', '3', '12', '44', '65', '24', '4', '36', '38', '74', '42', '47', '53', '58', '84', '52', '76', '17', '77', '85', '18', '10', '49', '66', '97', '14', '16', '45', '87', '25']\n",
            "50\n"
          ]
        }
      ]
    },
    {
      "cell_type": "code",
      "source": [],
      "metadata": {
        "id": "m-Q44ZJdR9g-"
      },
      "execution_count": 7,
      "outputs": []
    }
  ]
}