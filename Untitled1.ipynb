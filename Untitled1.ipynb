{
  "cells": [
    {
      "cell_type": "code",
      "execution_count": 43,
      "metadata": {
        "id": "VQkCTH0CoNbM"
      },
      "outputs": [],
      "source": [
        "import numpy as np\n",
        "import networkx as nx\n",
        "import json"
      ]
    },
    {
      "cell_type": "code",
      "execution_count": 44,
      "metadata": {},
      "outputs": [],
      "source": [
        "# Load JSON file\n",
        "# Change to appropriate graph\n",
        "with open('/Users/eli.seiner/Downloads/RR.5.20.json') as f:\n",
        "    adj_list = json.load(f)\n",
        "\n",
        "# Create a graph\n",
        "G = nx.Graph(adj_list)\n",
        "\n",
        "# Compute centralities\n",
        "deg_cent = nx.degree_centrality(G)\n",
        "close_cent = nx.closeness_centrality(G)\n",
        "bet_cent = nx.betweenness_centrality(G)\n",
        "\n",
        "# Might not always be 5\n",
        "i = 10\n",
        "close_top_10 = [entry[0] for entry in sorted(deg_cent.items(), key=lambda x: x[1], reverse=True)[:i]]\n",
        "deg_top_10 = [entry[0] for entry in sorted(close_cent.items(), key=lambda x: x[1], reverse=True)[:i]]\n",
        "bet_top_10 = [entry[0] for entry in sorted(bet_cent.items(), key=lambda x: x[1], reverse=True)[:i]]\n"
      ]
    },
    {
      "cell_type": "code",
      "execution_count": 45,
      "metadata": {},
      "outputs": [
        {
          "name": "stdout",
          "output_type": "stream",
          "text": [
            "['1', '7', '9', '4', '29', '5', '44', '11', '6', '42']\n",
            "['1', '7', '9', '29', '4', '11', '44', '5', '6', '8']\n",
            "['1', '7', '9', '29', '4', '5', '44', '11', '42', '26']\n"
          ]
        }
      ],
      "source": [
        "print(close_top_10)\n",
        "print(deg_top_10)\n",
        "print(bet_top_10)"
      ]
    },
    {
      "cell_type": "code",
      "execution_count": 46,
      "metadata": {},
      "outputs": [
        {
          "name": "stdout",
          "output_type": "stream",
          "text": [
            "{'8', '26', '1', '7', '9', '42', '44', '4', '5', '6', '29', '11'}\n"
          ]
        }
      ],
      "source": [
        "import random\n",
        "num_seed_nodes = 5\n",
        "\n",
        "s = set(close_top_10).union(set(deg_top_10), set(bet_top_10))\n",
        "print(s)"
      ]
    },
    {
      "cell_type": "code",
      "execution_count": 47,
      "metadata": {},
      "outputs": [],
      "source": [
        "res = \"\"\n",
        "for i in range(50):\n",
        "    nodes = random.choices(list(s), k=num_seed_nodes)\n",
        "    for node in nodes:\n",
        "        res += (node + \"\\n\")"
      ]
    },
    {
      "cell_type": "code",
      "execution_count": 48,
      "metadata": {},
      "outputs": [],
      "source": [
        "# Open the file for writing\n",
        "with open(\"RR.5.20.txt\", \"w\") as f:\n",
        "    # Write the string to the file\n",
        "    f.write(res)"
      ]
    }
  ],
  "metadata": {
    "colab": {
      "provenance": []
    },
    "kernelspec": {
      "display_name": "Python 3",
      "language": "python",
      "name": "python3"
    },
    "language_info": {
      "codemirror_mode": {
        "name": "ipython",
        "version": 3
      },
      "file_extension": ".py",
      "mimetype": "text/x-python",
      "name": "python",
      "nbconvert_exporter": "python",
      "pygments_lexer": "ipython3",
      "version": "3.9.6"
    },
    "vscode": {
      "interpreter": {
        "hash": "31f2aee4e71d21fbe5cf8b01ff0e069b9275f58929596ceb00d14d90e3e16cd6"
      }
    }
  },
  "nbformat": 4,
  "nbformat_minor": 0
}
