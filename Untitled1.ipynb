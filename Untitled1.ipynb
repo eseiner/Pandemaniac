{
  "cells": [
    {
      "cell_type": "code",
      "execution_count": 48,
      "metadata": {
        "id": "VQkCTH0CoNbM"
      },
      "outputs": [],
      "source": [
        "import numpy\n",
        "import networkx as nx\n",
        "import json"
      ]
    },
    {
      "cell_type": "code",
      "execution_count": 49,
      "metadata": {},
      "outputs": [
        {
          "name": "stdout",
          "output_type": "stream",
          "text": [
            "[('35', 0.04402515723270441), ('185', 0.04402515723270441), ('20', 0.03773584905660378), ('125', 0.03459119496855346), ('220', 0.03459119496855346)]\n"
          ]
        }
      ],
      "source": [
        "# Load JSON file\n",
        "# Change to appropriate graph\n",
        "with open('/Users/eli.seiner/Downloads/RR.5.10.json') as f:\n",
        "    adj_list = json.load(f)\n",
        "\n",
        "# Create a graph\n",
        "G = nx.Graph(adj_list)\n",
        "\n",
        "# Compute centralities\n",
        "deg_cent = nx.degree_centrality(G)\n",
        "close_cent = nx.closeness_centrality(G)\n",
        "\n",
        "# Might not always be 5\n",
        "i = 5\n",
        "cent_top_5 = sorted(deg_cent.items(), key=lambda x: x[1], reverse=True)[:i]\n",
        "\n",
        "print(cent_top_5)\n"
      ]
    },
    {
      "cell_type": "code",
      "execution_count": 50,
      "metadata": {},
      "outputs": [
        {
          "name": "stdout",
          "output_type": "stream",
          "text": [
            "250\n"
          ]
        }
      ],
      "source": [
        "res = \"\"\n",
        "for node in cent_top_5:\n",
        "    res += (node[0] + \"\\n\")\n",
        "\n",
        "res *= 50\n",
        "# print(res)\n",
        "print(res.count(\"\\n\"))"
      ]
    },
    {
      "cell_type": "code",
      "execution_count": 51,
      "metadata": {},
      "outputs": [],
      "source": [
        "# Open the file for writing\n",
        "with open(\"RR.5.10.txt\", \"w\") as f:\n",
        "    # Write the string to the file\n",
        "    f.write(res)"
      ]
    }
  ],
  "metadata": {
    "colab": {
      "provenance": []
    },
    "kernelspec": {
      "display_name": "Python 3",
      "language": "python",
      "name": "python3"
    },
    "language_info": {
      "codemirror_mode": {
        "name": "ipython",
        "version": 3
      },
      "file_extension": ".py",
      "mimetype": "text/x-python",
      "name": "python",
      "nbconvert_exporter": "python",
      "pygments_lexer": "ipython3",
      "version": "3.8.5"
    },
    "vscode": {
      "interpreter": {
        "hash": "aee8b7b246df8f9039afb4144a1f6fd8d2ca17a180786b69acc140d282b71a49"
      }
    }
  },
  "nbformat": 4,
  "nbformat_minor": 0
}
