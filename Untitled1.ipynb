{
  "cells": [
    {
      "cell_type": "code",
      "execution_count": 7,
      "metadata": {
        "id": "VQkCTH0CoNbM"
      },
      "outputs": [],
      "source": [
        "import numpy\n",
        "import networkx as nx\n",
        "import json"
      ]
    },
    {
      "cell_type": "code",
      "execution_count": 8,
      "metadata": {},
      "outputs": [
        {
          "ename": "FileNotFoundError",
          "evalue": "[Errno 2] No such file or directory: '/Users/eli.seiner/Downloads/RR.5.10.json'",
          "output_type": "error",
          "traceback": [
            "\u001b[0;31m---------------------------------------------------------------------------\u001b[0m",
            "\u001b[0;31mFileNotFoundError\u001b[0m                         Traceback (most recent call last)",
            "Cell \u001b[0;32mIn[8], line 3\u001b[0m\n\u001b[1;32m      1\u001b[0m \u001b[39m# Load JSON file\u001b[39;00m\n\u001b[1;32m      2\u001b[0m \u001b[39m# Change to appropriate graph\u001b[39;00m\n\u001b[0;32m----> 3\u001b[0m \u001b[39mwith\u001b[39;00m \u001b[39mopen\u001b[39;49m(\u001b[39m'\u001b[39;49m\u001b[39m/Users/eli.seiner/Downloads/RR.5.10.json\u001b[39;49m\u001b[39m'\u001b[39;49m) \u001b[39mas\u001b[39;00m f:\n\u001b[1;32m      4\u001b[0m     adj_list \u001b[39m=\u001b[39m json\u001b[39m.\u001b[39mload(f)\n\u001b[1;32m      6\u001b[0m \u001b[39m# Create a graph\u001b[39;00m\n",
            "File \u001b[0;32m~/Library/Python/3.9/lib/python/site-packages/IPython/core/interactiveshell.py:282\u001b[0m, in \u001b[0;36m_modified_open\u001b[0;34m(file, *args, **kwargs)\u001b[0m\n\u001b[1;32m    275\u001b[0m \u001b[39mif\u001b[39;00m file \u001b[39min\u001b[39;00m {\u001b[39m0\u001b[39m, \u001b[39m1\u001b[39m, \u001b[39m2\u001b[39m}:\n\u001b[1;32m    276\u001b[0m     \u001b[39mraise\u001b[39;00m \u001b[39mValueError\u001b[39;00m(\n\u001b[1;32m    277\u001b[0m         \u001b[39mf\u001b[39m\u001b[39m\"\u001b[39m\u001b[39mIPython won\u001b[39m\u001b[39m'\u001b[39m\u001b[39mt let you open fd=\u001b[39m\u001b[39m{\u001b[39;00mfile\u001b[39m}\u001b[39;00m\u001b[39m by default \u001b[39m\u001b[39m\"\u001b[39m\n\u001b[1;32m    278\u001b[0m         \u001b[39m\"\u001b[39m\u001b[39mas it is likely to crash IPython. If you know what you are doing, \u001b[39m\u001b[39m\"\u001b[39m\n\u001b[1;32m    279\u001b[0m         \u001b[39m\"\u001b[39m\u001b[39myou can use builtins\u001b[39m\u001b[39m'\u001b[39m\u001b[39m open.\u001b[39m\u001b[39m\"\u001b[39m\n\u001b[1;32m    280\u001b[0m     )\n\u001b[0;32m--> 282\u001b[0m \u001b[39mreturn\u001b[39;00m io_open(file, \u001b[39m*\u001b[39;49margs, \u001b[39m*\u001b[39;49m\u001b[39m*\u001b[39;49mkwargs)\n",
            "\u001b[0;31mFileNotFoundError\u001b[0m: [Errno 2] No such file or directory: '/Users/eli.seiner/Downloads/RR.5.10.json'"
          ]
        }
      ],
      "source": [
        "# Load JSON file\n",
        "# Change to appropriate graph\n",
        "with open('/Users/eli.seiner/Downloads/RR.5.10.json') as f:\n",
        "    adj_list = json.load(f)\n",
        "\n",
        "# Create a graph\n",
        "G = nx.Graph(adj_list)\n",
        "\n",
        "# Compute centralities\n",
        "deg_cent = nx.degree_centrality(G)\n",
        "close_cent = nx.closeness_centrality(G)\n",
        "bet_cent = nx.betweeness_centrality(G)\n",
        "\n",
        "# Might not always be 5\n",
        "i = 10\n",
        "close_top_10 = sorted(deg_cent.items(), key=lambda x: x[1], reverse=True)[:i]\n",
        "deg_top_10 = sorted(close_cent.items(), key=lambda x: x[1], reverse=True)[:i]\n",
        "bet_top_10 = sorted(bet_cent.items(), key=lambda x: x[1], reverse=True)[:i]\n"
      ]
    },
    {
      "cell_type": "code",
      "execution_count": null,
      "metadata": {},
      "outputs": [],
      "source": [
        "import random\n",
        "num_seed_nodes = 5\n",
        "\n",
        "s = set()\n",
        "s.add(close_top_10.keys())\n",
        "s.add(deg_top_10.keys())\n",
        "s.add(bet_top_10.keys())\n",
        "\n",
        "for i in range(50):\n",
        "    nodes = random.choices(s, num_seed_nodes)\n",
        "    res = \"\"\n",
        "    for node in nodes:\n",
        "        res += (node + \"\\n\")"
      ]
    },
    {
      "cell_type": "code",
      "execution_count": null,
      "metadata": {},
      "outputs": [
        {
          "name": "stdout",
          "output_type": "stream",
          "text": [
            "250\n"
          ]
        }
      ],
      "source": [
        "res = \"\"\n",
        "for node in cent_top_5:\n",
        "    res += (node[0] + \"\\n\")\n",
        "\n",
        "res *= 50\n",
        "# print(res)\n",
        "print(res.count(\"\\n\"))"
      ]
    },
    {
      "cell_type": "code",
      "execution_count": null,
      "metadata": {},
      "outputs": [],
      "source": [
        "# Open the file for writing\n",
        "with open(\"RR.5.10.txt\", \"w\") as f:\n",
        "    # Write the string to the file\n",
        "    f.write(res)"
      ]
    }
  ],
  "metadata": {
    "colab": {
      "provenance": []
    },
    "kernelspec": {
      "display_name": "Python 3",
      "language": "python",
      "name": "python3"
    },
    "language_info": {
      "codemirror_mode": {
        "name": "ipython",
        "version": 3
      },
      "file_extension": ".py",
      "mimetype": "text/x-python",
      "name": "python",
      "nbconvert_exporter": "python",
      "pygments_lexer": "ipython3",
      "version": "3.9.6"
    },
    "vscode": {
      "interpreter": {
        "hash": "31f2aee4e71d21fbe5cf8b01ff0e069b9275f58929596ceb00d14d90e3e16cd6"
      }
    }
  },
  "nbformat": 4,
  "nbformat_minor": 0
}
