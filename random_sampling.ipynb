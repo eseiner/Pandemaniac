{
 "cells": [
  {
   "cell_type": "code",
   "execution_count": 23,
   "metadata": {},
   "outputs": [],
   "source": [
    "import numpy as np\n",
    "import networkx as nx\n",
    "import json\n",
    "from collections import Counter\n",
    "import random\n",
    "import sim\n",
    "import operator\n",
    "from heapq import nlargest"
   ]
  },
  {
   "cell_type": "code",
   "execution_count": 24,
   "metadata": {},
   "outputs": [],
   "source": [
    "n = 30\n",
    "\n",
    "# Load JSON file\n",
    "# Change to appropriate graph\n",
    "filepath = '/Users/velis.christ/Downloads/'\n",
    "filename = 'J.30.32.json'\n",
    "with open(filepath+filename) as f:\n",
    "    adj_list = json.load(f)\n",
    "\n",
    "# Create a graph\n",
    "G = nx.Graph(adj_list)\n",
    "\n",
    "# Compute centralities\n",
    "deg_cent = nx.degree_centrality(G)\n",
    "close_cent = nx.closeness_centrality(G)\n",
    "bet_cent = nx.betweenness_centrality(G)\n",
    "tri_cent = nx.triangles(G)\n",
    "\n",
    "# Might not always be 5\n",
    "i = 50\n",
    "close_top_10 = [entry[0] for entry in sorted(deg_cent.items(), key=lambda x: x[1], reverse=True)[:i]]\n",
    "deg_top_10 = [entry[0] for entry in sorted(close_cent.items(), key=lambda x: x[1], reverse=True)[:i]]\n",
    "bet_top_10 = [entry[0] for entry in sorted(bet_cent.items(), key=lambda x: x[1], reverse=True)[:i]]\n",
    "tri_top_10 = [entry[0] for entry in sorted(tri_cent.items(), key=lambda x: x[1], reverse=True)[:i]]\n"
   ]
  },
  {
   "cell_type": "code",
   "execution_count": 25,
   "metadata": {},
   "outputs": [],
   "source": [
    "s = set(close_top_10).union(set(deg_top_10), set(bet_top_10), set(tri_top_10))"
   ]
  },
  {
   "cell_type": "code",
   "execution_count": 26,
   "metadata": {},
   "outputs": [
    {
     "name": "stdout",
     "output_type": "stream",
     "text": [
      "75\n"
     ]
    }
   ],
   "source": [
    "print(len(s))"
   ]
  },
  {
   "cell_type": "code",
   "execution_count": 27,
   "metadata": {},
   "outputs": [],
   "source": [
    "nodes = random.choices(list(s), k=n)"
   ]
  },
  {
   "cell_type": "code",
   "execution_count": 28,
   "metadata": {},
   "outputs": [],
   "source": [
    "res = \"\"\n",
    "line = \"\"\n",
    "for node in nodes:\n",
    "    line += (node + \"\\n\")\n",
    "for i in range(50):\n",
    "    res += line"
   ]
  },
  {
   "cell_type": "code",
   "execution_count": 29,
   "metadata": {},
   "outputs": [],
   "source": [
    "# Open the file for writing\n",
    "#with open(\"RR.10.50.txt\", \"w\") as f:\n",
    "with open(\"day3_submission.txt\", \"w\") as f:\n",
    "    # Write the string to the file\n",
    "    f.write(res)"
   ]
  }
 ],
 "metadata": {
  "kernelspec": {
   "display_name": "Python 3",
   "language": "python",
   "name": "python3"
  },
  "language_info": {
   "codemirror_mode": {
    "name": "ipython",
    "version": 3
   },
   "file_extension": ".py",
   "mimetype": "text/x-python",
   "name": "python",
   "nbconvert_exporter": "python",
   "pygments_lexer": "ipython3",
   "version": "3.9.6"
  },
  "orig_nbformat": 4,
  "vscode": {
   "interpreter": {
    "hash": "31f2aee4e71d21fbe5cf8b01ff0e069b9275f58929596ceb00d14d90e3e16cd6"
   }
  }
 },
 "nbformat": 4,
 "nbformat_minor": 2
}
