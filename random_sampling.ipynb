{
 "cells": [
  {
   "cell_type": "code",
   "execution_count": 15,
   "metadata": {},
   "outputs": [],
   "source": [
    "import numpy as np\n",
    "import networkx as nx\n",
    "import json\n",
    "from collections import Counter\n",
    "import random\n",
    "import sim\n",
    "import operator\n",
    "from heapq import nlargest"
   ]
  },
  {
   "cell_type": "code",
   "execution_count": 16,
   "metadata": {},
   "outputs": [
    {
     "ename": "KeyboardInterrupt",
     "evalue": "",
     "output_type": "error",
     "traceback": [
      "\u001b[0;31m---------------------------------------------------------------------------\u001b[0m",
      "\u001b[0;31mKeyboardInterrupt\u001b[0m                         Traceback (most recent call last)",
      "Cell \u001b[0;32mIn[16], line 15\u001b[0m\n\u001b[1;32m     11\u001b[0m G \u001b[39m=\u001b[39m nx\u001b[39m.\u001b[39mGraph(adj_list)\n\u001b[1;32m     13\u001b[0m \u001b[39m# Compute centralities\u001b[39;00m\n\u001b[1;32m     14\u001b[0m \u001b[39m# deg_cent = nx.degree_centrality(G)\u001b[39;00m\n\u001b[0;32m---> 15\u001b[0m close_cent \u001b[39m=\u001b[39m nx\u001b[39m.\u001b[39;49mcloseness_centrality(G)\n\u001b[1;32m     16\u001b[0m \u001b[39m# bet_cent = nx.betweenness_centrality(G)\u001b[39;00m\n\u001b[1;32m     17\u001b[0m tri_cent \u001b[39m=\u001b[39m nx\u001b[39m.\u001b[39mtriangles(G)\n",
      "File \u001b[0;32m~/Library/Python/3.9/lib/python/site-packages/networkx/algorithms/centrality/closeness.py:122\u001b[0m, in \u001b[0;36mcloseness_centrality\u001b[0;34m(G, u, distance, wf_improved)\u001b[0m\n\u001b[1;32m    120\u001b[0m closeness_dict \u001b[39m=\u001b[39m {}\n\u001b[1;32m    121\u001b[0m \u001b[39mfor\u001b[39;00m n \u001b[39min\u001b[39;00m nodes:\n\u001b[0;32m--> 122\u001b[0m     sp \u001b[39m=\u001b[39m path_length(G, n)\n\u001b[1;32m    123\u001b[0m     totsp \u001b[39m=\u001b[39m \u001b[39msum\u001b[39m(sp\u001b[39m.\u001b[39mvalues())\n\u001b[1;32m    124\u001b[0m     len_G \u001b[39m=\u001b[39m \u001b[39mlen\u001b[39m(G)\n",
      "File \u001b[0;32m~/Library/Python/3.9/lib/python/site-packages/networkx/algorithms/shortest_paths/unweighted.py:59\u001b[0m, in \u001b[0;36msingle_source_shortest_path_length\u001b[0;34m(G, source, cutoff)\u001b[0m\n\u001b[1;32m     57\u001b[0m     cutoff \u001b[39m=\u001b[39m \u001b[39mfloat\u001b[39m(\u001b[39m\"\u001b[39m\u001b[39minf\u001b[39m\u001b[39m\"\u001b[39m)\n\u001b[1;32m     58\u001b[0m nextlevel \u001b[39m=\u001b[39m {source: \u001b[39m1\u001b[39m}\n\u001b[0;32m---> 59\u001b[0m \u001b[39mreturn\u001b[39;00m \u001b[39mdict\u001b[39;49m(_single_shortest_path_length(G\u001b[39m.\u001b[39;49madj, nextlevel, cutoff))\n",
      "File \u001b[0;32m~/Library/Python/3.9/lib/python/site-packages/networkx/algorithms/shortest_paths/unweighted.py:85\u001b[0m, in \u001b[0;36m_single_shortest_path_length\u001b[0;34m(adj, firstlevel, cutoff)\u001b[0m\n\u001b[1;32m     83\u001b[0m \u001b[39mfor\u001b[39;00m v \u001b[39min\u001b[39;00m thislevel:\n\u001b[1;32m     84\u001b[0m     \u001b[39mif\u001b[39;00m v \u001b[39mnot\u001b[39;00m \u001b[39min\u001b[39;00m seen:\n\u001b[0;32m---> 85\u001b[0m         seen[v] \u001b[39m=\u001b[39m level  \u001b[39m# set the level of vertex v\u001b[39;00m\n\u001b[1;32m     86\u001b[0m         found\u001b[39m.\u001b[39mappend(v)\n\u001b[1;32m     87\u001b[0m         \u001b[39myield\u001b[39;00m (v, level)\n",
      "\u001b[0;31mKeyboardInterrupt\u001b[0m: "
     ]
    }
   ],
   "source": [
    "n = 20\n",
    "\n",
    "# Load JSON file\n",
    "# Change to appropriate graph\n",
    "filepath = '/Users/velis.christ/Downloads/'\n",
    "filename = 'J.20.35.json'\n",
    "with open(filepath+filename) as f:\n",
    "    adj_list = json.load(f)\n",
    "\n",
    "# Create a graph\n",
    "G = nx.Graph(adj_list)\n",
    "\n",
    "# Compute centralities\n",
    "# deg_cent = nx.degree_centrality(G)\n",
    "close_cent = nx.closeness_centrality(G)\n",
    "# bet_cent = nx.betweenness_centrality(G)\n",
    "tri_cent = nx.triangles(G)\n",
    "\n",
    "# Might not always be 5\n",
    "i = 50\n",
    "close_top_10 = [entry[0] for entry in sorted(close_cent.items(), key=lambda x: x[1], reverse=True)[5:i+5]]\n",
    "# deg_top_10 = [entry[0] for entry in sorted(deg_cent.items(), key=lambda x: x[1], reverse=True)[5:i+5]]\n",
    "# bet_top_10 = [entry[0] for entry in sorted(bet_cent.items(), key=lambda x: x[1], reverse=True)[5:i+5]]\n",
    "tri_top_10 = [entry[0] for entry in sorted(tri_cent.items(), key=lambda x: x[1], reverse=True)[5:i+5]]\n"
   ]
  },
  {
   "cell_type": "code",
   "execution_count": 18,
   "metadata": {},
   "outputs": [],
   "source": [
    "# s = set(close_top_10).union(set(deg_top_10), set(bet_top_10), set(tri_top_10))\n",
    "s = set(close_top_10)"
   ]
  },
  {
   "cell_type": "code",
   "execution_count": 17,
   "metadata": {},
   "outputs": [
    {
     "name": "stdout",
     "output_type": "stream",
     "text": [
      "['97', '216', '223', '241', '10', '14', '42', '115', '175', '193', '200', '253', '281', '298', '405', '423', '438', '457', '491', '538', '561', '567', '574', '576', '20', '37', '39', '59', '62', '68', '72', '87', '103', '104', '117', '128', '142', '144', '155', '165', '167', '169', '182', '189', '202', '211', '212', '244', '284', '295']\n"
     ]
    }
   ],
   "source": [
    "print(close_top_10)"
   ]
  },
  {
   "cell_type": "code",
   "execution_count": null,
   "metadata": {},
   "outputs": [],
   "source": [
    "# nodes = random.choices(list(s), k=n)"
   ]
  },
  {
   "cell_type": "code",
   "execution_count": 19,
   "metadata": {},
   "outputs": [],
   "source": [
    "res = \"\"\n",
    "for i in range(50):\n",
    "    nodes = random.choices(list(s), k=n)\n",
    "    line = \"\"\n",
    "    for node in nodes:\n",
    "        line += (node + \"\\n\")\n",
    "    res += line"
   ]
  },
  {
   "cell_type": "code",
   "execution_count": 20,
   "metadata": {},
   "outputs": [],
   "source": [
    "# Open the file for writing\n",
    "#with open(\"RR.10.50.txt\", \"w\") as f:\n",
    "with open(\"tournament.txt\", \"w\") as f:\n",
    "    # Write the string to the file\n",
    "    f.write(res)"
   ]
  }
 ],
 "metadata": {
  "kernelspec": {
   "display_name": "Python 3",
   "language": "python",
   "name": "python3"
  },
  "language_info": {
   "codemirror_mode": {
    "name": "ipython",
    "version": 3
   },
   "file_extension": ".py",
   "mimetype": "text/x-python",
   "name": "python",
   "nbconvert_exporter": "python",
   "pygments_lexer": "ipython3",
   "version": "3.9.6"
  },
  "orig_nbformat": 4,
  "vscode": {
   "interpreter": {
    "hash": "31f2aee4e71d21fbe5cf8b01ff0e069b9275f58929596ceb00d14d90e3e16cd6"
   }
  }
 },
 "nbformat": 4,
 "nbformat_minor": 2
}
