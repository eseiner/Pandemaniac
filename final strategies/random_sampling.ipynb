{
 "cells": [
  {
   "attachments": {},
   "cell_type": "markdown",
   "metadata": {},
   "source": [
    "# Final Strategy for J Graphs\n",
    "\n",
    "This file contain our final strategy for the Jungle graphs. We select the top\n",
    "nodes in terms of 5 centrality measures (excluding the top 5 for each) and we\n",
    "randomly sample n of them (50 times) to generate our seed nodes. "
   ]
  },
  {
   "cell_type": "code",
   "execution_count": 3,
   "metadata": {},
   "outputs": [],
   "source": [
    "import numpy as np\n",
    "import networkx as nx\n",
    "import json\n",
    "from collections import Counter\n",
    "import random\n",
    "import sim\n",
    "import operator\n",
    "from heapq import nlargest"
   ]
  },
  {
   "cell_type": "code",
   "execution_count": 4,
   "metadata": {},
   "outputs": [],
   "source": [
    "n = 20 # Number of seed nodes per round\n",
    "\n",
    "# Load JSON file\n",
    "# Change to appropriate graph\n",
    "filepath = '/Users/velis.christ/Downloads/'\n",
    "filename = 'J.15.15.json'\n",
    "with open(filepath+filename) as f:\n",
    "    adj_list = json.load(f)\n",
    "\n",
    "# Create a graph\n",
    "G = nx.Graph(adj_list)\n",
    "\n",
    "# Compute centralities\n",
    "deg_cent = nx.degree_centrality(G)\n",
    "close_cent = nx.closeness_centrality(G)\n",
    "bet_cent = nx.betweenness_centrality(G)\n",
    "tri_cent = nx.triangles(G)\n",
    "\n",
    "i = 50 # Number of nodes for each centrality measure\n",
    "close_top_10 = [entry[0] for entry in sorted(close_cent.items(), key=lambda x: x[1], reverse=True)[5:i+5]]\n",
    "deg_top_10 = [entry[0] for entry in sorted(deg_cent.items(), key=lambda x: x[1], reverse=True)[5:i+5]]\n",
    "bet_top_10 = [entry[0] for entry in sorted(bet_cent.items(), key=lambda x: x[1], reverse=True)[5:i+5]]\n",
    "tri_top_10 = [entry[0] for entry in sorted(tri_cent.items(), key=lambda x: x[1], reverse=True)[5:i+5]]\n"
   ]
  },
  {
   "cell_type": "code",
   "execution_count": 5,
   "metadata": {},
   "outputs": [],
   "source": [
    "# Use a set to handle duplicate nodes\n",
    "s = set(close_top_10).union(set(deg_top_10), set(bet_top_10), set(tri_top_10))"
   ]
  },
  {
   "cell_type": "code",
   "execution_count": 6,
   "metadata": {},
   "outputs": [],
   "source": [
    "res = \"\"\n",
    "for i in range(50):\n",
    "    nodes = random.choices(list(s), k=n)\n",
    "    line = \"\"\n",
    "    for node in nodes:\n",
    "        line += (node + \"\\n\")\n",
    "    res += line"
   ]
  },
  {
   "cell_type": "code",
   "execution_count": 7,
   "metadata": {},
   "outputs": [],
   "source": [
    "# Open the file for writing\n",
    "#with open(\"RR.10.50.txt\", \"w\") as f:\n",
    "with open(\"tournament.txt\", \"w\") as f:\n",
    "    # Write the string to the file\n",
    "    f.write(res)"
   ]
  }
 ],
 "metadata": {
  "kernelspec": {
   "display_name": "Python 3",
   "language": "python",
   "name": "python3"
  },
  "language_info": {
   "codemirror_mode": {
    "name": "ipython",
    "version": 3
   },
   "file_extension": ".py",
   "mimetype": "text/x-python",
   "name": "python",
   "nbconvert_exporter": "python",
   "pygments_lexer": "ipython3",
   "version": "3.9.6"
  },
  "orig_nbformat": 4,
  "vscode": {
   "interpreter": {
    "hash": "31f2aee4e71d21fbe5cf8b01ff0e069b9275f58929596ceb00d14d90e3e16cd6"
   }
  }
 },
 "nbformat": 4,
 "nbformat_minor": 2
}
