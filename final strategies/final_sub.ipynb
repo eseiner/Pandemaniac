{
 "cells": [
  {
   "attachments": {},
   "cell_type": "markdown",
   "metadata": {},
   "source": [
    "# Final Strategy for RR Graphs\n",
    "\n",
    "This file contains the code we run to find our final strategy.\n",
    "We find the optimal coefficients of a linear combination of eigenvector\n",
    "centrality, closeness centrality, and triangle centrality. The objective\n",
    "function is the performance of the linear combination on each graph \n",
    "of a certain type (e.g., SNAP) against the best performing teams of the\n",
    "previous 2-3 days. "
   ]
  },
  {
   "cell_type": "code",
   "execution_count": 29,
   "metadata": {},
   "outputs": [],
   "source": [
    "import numpy as np\n",
    "import networkx as nx\n",
    "import json\n",
    "from collections import Counter\n",
    "import random\n",
    "import sim\n",
    "import operator\n",
    "from heapq import nlargest"
   ]
  },
  {
   "cell_type": "code",
   "execution_count": 30,
   "metadata": {},
   "outputs": [],
   "source": [
    "# Global Variables\n",
    "n = 10 # Number of seed nodes"
   ]
  },
  {
   "cell_type": "code",
   "execution_count": 31,
   "metadata": {},
   "outputs": [],
   "source": [
    "def get_graphs(filenames):\n",
    "    ''' \n",
    "    Function to create graphs and adjacency lists\n",
    "    given a list of filenames \n",
    "    '''\n",
    "    filepath = '/Users/velis.christ/Downloads/'\n",
    "    graphs = []\n",
    "    adj_lists = []\n",
    "    for filename in filenames:\n",
    "        with open(filepath+filename+\".json\") as f:\n",
    "            adj_list = json.load(f)\n",
    "        # Create a graph\n",
    "        G = nx.Graph(adj_list)\n",
    "        graphs.append(G)\n",
    "        adj_lists.append(adj_list)\n",
    "    return graphs, adj_lists"
   ]
  },
  {
   "cell_type": "code",
   "execution_count": 32,
   "metadata": {},
   "outputs": [],
   "source": [
    "def retrieve_strat_filenames(graph_filename, team_names):\n",
    "    '''\n",
    "    Retrieve the filenames of the files containing the teams'\n",
    "    strategies given a graph filename and a list of teams\n",
    "    '''\n",
    "    res = []\n",
    "    for name in team_names:\n",
    "        strat_filename = graph_filename + \"-\" + name + \".json\"\n",
    "        res.append(strat_filename)\n",
    "    return res\n",
    "\n",
    "def get_strategies(filenames):\n",
    "    '''\n",
    "    Create a list of all the strategies for each of the graph filenames\n",
    "    given as input\n",
    "     '''\n",
    "    filepath = '/Users/velis.christ/Downloads/'\n",
    "    strategies = []\n",
    "    for filename in filenames:\n",
    "        with open(filepath+filename) as f:\n",
    "            strategy = json.load(f)\n",
    "        strategies.append(strategy)\n",
    "    return strategies"
   ]
  },
  {
   "cell_type": "code",
   "execution_count": 33,
   "metadata": {},
   "outputs": [],
   "source": [
    "def compare_all(adj_list, best_nodes, all_test_nodes):\n",
    "    '''\n",
    "    Function to run simulations on a given graph. The function runs a\n",
    "    simulation of the best_nodes against all seed nodes in the list\n",
    "    all_test_nodes. This function is used to compare the strategy of a linear\n",
    "    combination of centrality measures against all strategies from previous\n",
    "    days on a given graph.\n",
    "    Input:\n",
    "    - adj_list: adjacency list of graph to run the simulation on\n",
    "    - best_nodes: seed nodes of the strategy being tested\n",
    "    - all_test_nodes: list of seed nodes to simulate against\n",
    "    Output:\n",
    "    - results: list of all ouputs of simulation (sim.run)\n",
    "    '''\n",
    "    results = []\n",
    "    # print(all_test_nodes)\n",
    "    for test_nodes in all_test_nodes:\n",
    "        node_mappings = dict()\n",
    "        node_mappings[\"Best\"] = best_nodes\n",
    "        node_mappings[\"Test\"] = test_nodes\n",
    "        # print(node_mappings)\n",
    "        result = sim.run(adj_list, node_mappings)\n",
    "        results.append(result)\n",
    "    return results"
   ]
  },
  {
   "cell_type": "code",
   "execution_count": 34,
   "metadata": {},
   "outputs": [],
   "source": [
    "def best_strategy(graphs, adj_lists, strategies):\n",
    "    ''' \n",
    "    Find the best strategy (linear combination of centrality measures)\n",
    "    given a set of graphs and competing strategies.\n",
    "    The graphs are of the same type (e.g., SNAP, Preferential Attachment)\n",
    "    \n",
    "    Inputs:\n",
    "    - graphs: list of nx.Graph()\n",
    "    - adj_lists: list of dict() representing adjacency lists\n",
    "    - strategies: list of lists of lists of seed nodes of the strategies\n",
    "\n",
    "    Output:\n",
    "    - num_beats: list of the number of Wins on each graph\n",
    "    - scores: list of the number of nodes conquered on each graph\n",
    "    best_idx: Index of the best coefficients\n",
    "    coeffs: The optimal coefficients for the linear combination\n",
    "    '''\n",
    "\n",
    "    # Compute centralities for each graph\n",
    "    eig_cent = []\n",
    "    close_cent = []\n",
    "    triangles = []\n",
    "    for i in range(len(graphs)):\n",
    "        G = graphs[i]\n",
    "        eig_cent.append(nx.eigenvector_centrality(G))\n",
    "        close_cent.append(nx.closeness_centrality(G))\n",
    "        triangles.append(nx.triangles(G))\n",
    "\n",
    "    # Find best coefficients by trying many different coefficients\n",
    "    coeffs = []\n",
    "    scores = []\n",
    "    num_beats = []\n",
    "    for alpha in np.linspace(0,1,num=10):\n",
    "        for beta in np.linspace(0,1,num=10):\n",
    "            coeffs.append((alpha, beta))\n",
    "            our_node_mapping = {}\n",
    "            score = 0\n",
    "            num_beat = 0\n",
    "            # Iterate over each graph to compute the score of the current strategy\n",
    "            for i in range(len(graphs)):\n",
    "                G = graphs[i]\n",
    "                curr_eig_cent = eig_cent[i]\n",
    "                curr_close_cent = close_cent[i]\n",
    "                curr_triangles = triangles[i]\n",
    "                # Compute strategy's centrality scores for each node\n",
    "                for node in G.nodes():\n",
    "                    our_node_mapping[node] = alpha*curr_eig_cent[node]+beta*curr_close_cent[node]+(1-alpha-beta)*curr_triangles[node]\n",
    "                seeds = nlargest(n, our_node_mapping.items(), key=operator.itemgetter(1))\n",
    "                nodes = [j[0] for j in seeds]\n",
    "                results = compare_all(adj_lists[i], nodes, strategies[i])\n",
    "                for res in results:\n",
    "                    score += res[\"Best\"]\n",
    "                    num_beat += int(res[\"Best\"] > res[\"Test\"])\n",
    "            scores.append(score)\n",
    "            num_beats.append(num_beat)\n",
    "    max_beats = np.max(num_beats)\n",
    "    print(max_beats)\n",
    "    most_beats = [(scores[i], i) for i in range(len(num_beats)) if num_beats[i] >= max_beats]\n",
    "    best = max(most_beats, key=lambda x: x[0])\n",
    "    best_idx = best[1]\n",
    "    return num_beats, scores, best_idx, coeffs[best_idx]"
   ]
  },
  {
   "cell_type": "code",
   "execution_count": 35,
   "metadata": {},
   "outputs": [
    {
     "name": "stdout",
     "output_type": "stream",
     "text": [
      "4\n"
     ]
    }
   ],
   "source": [
    "# This is the main code that needs to be run to generate the final strategy\n",
    "# What needs to be defined:\n",
    "# - team_names: the names of the competing teams to be used in the optimization\n",
    "# - Change the graph_filenames used in the for loop to be the graph filenames\n",
    "#   for the graph you want to optimize for\n",
    "\n",
    "# team_names = [\"LMNOP\", \"ModeloTime\", \"NetworkX\", \"_EAA\", \"_eek\", \"alley5\", \"pareto\", \\\n",
    "#     \"Charlemagne\", \"NoSleepAtAll\", \"_NKS\", \"_pe2\", \"LongTailedBeavers\", \"covid_23\"]\n",
    "\n",
    "# team_names = [\"_EAA\", \"ModeloTime\", \"NoSleepAtAll\", \"alley5\"]\n",
    "\n",
    "team_names = [\"LMNOP\", \"NoSleepAtAll\", \"alley5\"]\n",
    "\n",
    "# Graph filenames\n",
    "er_graph_filenames = [\"RR.10.12\", \"RR.10.13\", \"RR.10.14\"]\n",
    "pa_graph_filenames = [\"RR.10.23\", \"RR.10.24\"]\n",
    "ssbm_graph_filenames = [\"RR.10.32\", \"RR.10.33\", \"RR.10.34\"]\n",
    "caltech_graph_filenames = [\"RR.10.42\", \"RR.20.43\", \"RR.15.44\"]\n",
    "snap_graph_filenames = [\"RR.10.52\", \"RR.10.53\", \"RR.10.54\"]\n",
    "\n",
    "# Strategies\n",
    "strategies = []\n",
    "for graph_filename in er_graph_filenames:\n",
    "    er_strategies = []\n",
    "    strategy_filenames = retrieve_strat_filenames(graph_filename, team_names)\n",
    "    strats = get_strategies(strategy_filenames)\n",
    "    for strat in strats:\n",
    "        er_strategies.append(list(strat.values())[0][0][:10])\n",
    "    strategies.append(er_strategies)\n",
    "graphs, adj_lists = get_graphs(er_graph_filenames)\n",
    "num_beats, scores, best_idx, best_coeffs = best_strategy(graphs, adj_lists, strategies)"
   ]
  },
  {
   "cell_type": "code",
   "execution_count": 36,
   "metadata": {},
   "outputs": [
    {
     "name": "stdout",
     "output_type": "stream",
     "text": [
      "[0, 3, 3, 3, 3, 3, 3, 3, 3, 4, 3, 3, 3, 3, 3, 3, 3, 3, 4, 4, 3, 3, 3, 3, 3, 3, 3, 4, 4, 4, 3, 3, 3, 3, 3, 3, 4, 4, 4, 4, 3, 3, 3, 3, 3, 4, 4, 4, 4, 4, 3, 3, 3, 3, 4, 4, 4, 4, 4, 4, 3, 3, 3, 4, 4, 4, 4, 4, 4, 4, 3, 3, 4, 4, 4, 4, 4, 4, 4, 4, 3, 3, 4, 4, 4, 4, 4, 4, 4, 4, 3, 4, 4, 4, 4, 4, 4, 4, 4, 4]\n",
      "[1136, 1927, 1927, 1927, 1927, 1927, 1927, 1927, 1927, 1803, 2054, 2047, 1930, 1930, 1930, 1930, 1930, 1902, 2064, 2848, 2054, 2047, 2047, 1930, 1930, 1930, 1930, 3156, 2848, 2848, 2054, 2054, 2047, 2047, 2047, 1930, 3021, 2848, 2848, 2848, 2054, 2054, 2047, 2047, 2047, 3021, 2806, 2848, 2848, 2848, 2054, 2054, 2054, 2047, 3071, 2806, 2806, 2806, 2806, 2848, 2054, 2054, 2054, 3071, 2815, 2815, 2806, 2806, 2806, 2806, 2054, 2054, 3071, 2815, 2815, 2815, 2806, 2806, 2806, 2806, 2054, 2745, 2899, 2815, 2815, 2815, 2815, 2806, 2806, 2806, 2745, 2752, 2752, 2899, 2815, 2815, 2815, 2815, 2806, 2806]\n",
      "27\n",
      "(0.2222222222222222, 0.7777777777777777)\n",
      "3156\n",
      "4\n"
     ]
    }
   ],
   "source": [
    "# Print the output of the best strategy function. The important output is:\n",
    "# - best_coeffs: coefficients of best linear combination\n",
    "\n",
    "print(num_beats)\n",
    "print(scores)\n",
    "print(best_idx)\n",
    "print(best_coeffs)\n",
    "print(scores[best_idx])\n",
    "print(num_beats[best_idx])"
   ]
  }
 ],
 "metadata": {
  "kernelspec": {
   "display_name": "Python 3",
   "language": "python",
   "name": "python3"
  },
  "language_info": {
   "codemirror_mode": {
    "name": "ipython",
    "version": 3
   },
   "file_extension": ".py",
   "mimetype": "text/x-python",
   "name": "python",
   "nbconvert_exporter": "python",
   "pygments_lexer": "ipython3",
   "version": "3.9.6"
  },
  "orig_nbformat": 4,
  "vscode": {
   "interpreter": {
    "hash": "31f2aee4e71d21fbe5cf8b01ff0e069b9275f58929596ceb00d14d90e3e16cd6"
   }
  }
 },
 "nbformat": 4,
 "nbformat_minor": 2
}
