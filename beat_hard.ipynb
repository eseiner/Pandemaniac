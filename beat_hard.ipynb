{
 "cells": [
  {
   "cell_type": "code",
   "execution_count": 70,
   "metadata": {},
   "outputs": [],
   "source": [
    "import numpy as np\n",
    "import networkx as nx\n",
    "import json\n",
    "from collections import Counter\n",
    "import random\n",
    "import sim"
   ]
  },
  {
   "cell_type": "code",
   "execution_count": 71,
   "metadata": {},
   "outputs": [],
   "source": [
    "n = 10\n",
    "\n",
    "# Load JSON file\n",
    "# Change to appropriate graph\n",
    "filepath = '/Users/velis.christ/Downloads/'\n",
    "filename = 'RR.10.51.json'\n",
    "with open(filepath+filename) as f:\n",
    "    adj_list = json.load(f)\n",
    "\n",
    "# Create a graph\n",
    "G = nx.Graph(adj_list)"
   ]
  },
  {
   "cell_type": "code",
   "execution_count": 102,
   "metadata": {},
   "outputs": [],
   "source": [
    "ibet_cent = nx.closeness_centrality(G)\n",
    "ideg_cent = nx.degree_centrality(G)\n",
    "iclose_cent = nx.closeness_centrality(G)\n",
    "def algo_5(n, scale_factor=0.3, deg_factor=0.3):\n",
    "    new_cent = {}\n",
    "    for node in ibet_cent:\n",
    "        if node in iclose_cent:\n",
    "            new_cent[node] = scale_factor*ibet_cent[node]+iclose_cent[node]+deg_factor*ideg_cent[node]\n",
    "    new_top = [entry[0] for entry in sorted(new_cent.items(), key=lambda x: x[1], reverse=True)[:n]]\n",
    "    return new_top"
   ]
  },
  {
   "cell_type": "code",
   "execution_count": 73,
   "metadata": {},
   "outputs": [],
   "source": [
    "def TA_hard(n):\n",
    "    deg_cent = nx.closeness_centrality(G)\n",
    "    close_top = [entry[0] for entry in sorted(deg_cent.items(), key=lambda x: x[1], reverse=True)[:n]]\n",
    "    return close_top"
   ]
  },
  {
   "cell_type": "code",
   "execution_count": 74,
   "metadata": {},
   "outputs": [
    {
     "name": "stdout",
     "output_type": "stream",
     "text": [
      "{'TA': 0, 'JYP': 0}\n"
     ]
    }
   ],
   "source": [
    "node_mappings = dict()\n",
    "node_mappings[\"TA\"] = TA_hard(n)\n",
    "node_mappings[\"JYP\"] = algo_5(n)\n",
    "results = sim.run(adj_list, node_mappings)\n",
    "print(results)"
   ]
  },
  {
   "cell_type": "code",
   "execution_count": 105,
   "metadata": {},
   "outputs": [],
   "source": [
    "def optimize(adj_list):\n",
    "    node_mappings = dict()\n",
    "    node_mappings[\"TA\"] = TA_hard(n)\n",
    "    diff = -int(1e6)\n",
    "    idx = 0\n",
    "    for i in np.linspace(0,1,num=200):\n",
    "        for j in np.linspace(0,1,num=200):\n",
    "            node_mappings[\"JYP\"] = algo_5(n,scale_factor=i, deg_factor=j)\n",
    "            results = sim.run(adj_list, node_mappings)\n",
    "            iter_us = results[\"JYP\"]\n",
    "            iter_them = results[\"TA\"]\n",
    "            if iter_us-iter_them >= diff:\n",
    "                diff = iter_us-iter_them\n",
    "                idx = i\n",
    "    return idx, diff"
   ]
  },
  {
   "cell_type": "code",
   "execution_count": 106,
   "metadata": {},
   "outputs": [
    {
     "ename": "KeyboardInterrupt",
     "evalue": "",
     "output_type": "error",
     "traceback": [
      "\u001b[0;31m---------------------------------------------------------------------------\u001b[0m",
      "\u001b[0;31mKeyboardInterrupt\u001b[0m                         Traceback (most recent call last)",
      "Cell \u001b[0;32mIn[106], line 1\u001b[0m\n\u001b[0;32m----> 1\u001b[0m idx, diff \u001b[39m=\u001b[39m optimize(adj_list)\n\u001b[1;32m      2\u001b[0m \u001b[39mprint\u001b[39m(idx, diff)\n",
      "Cell \u001b[0;32mIn[105], line 8\u001b[0m, in \u001b[0;36moptimize\u001b[0;34m(adj_list)\u001b[0m\n\u001b[1;32m      6\u001b[0m \u001b[39mfor\u001b[39;00m i \u001b[39min\u001b[39;00m np\u001b[39m.\u001b[39mlinspace(\u001b[39m0\u001b[39m,\u001b[39m1\u001b[39m,num\u001b[39m=\u001b[39m\u001b[39m200\u001b[39m):\n\u001b[1;32m      7\u001b[0m     \u001b[39mfor\u001b[39;00m j \u001b[39min\u001b[39;00m np\u001b[39m.\u001b[39mlinspace(\u001b[39m0\u001b[39m,\u001b[39m1\u001b[39m,num\u001b[39m=\u001b[39m\u001b[39m200\u001b[39m):\n\u001b[0;32m----> 8\u001b[0m         node_mappings[\u001b[39m\"\u001b[39m\u001b[39mJYP\u001b[39m\u001b[39m\"\u001b[39m] \u001b[39m=\u001b[39m algo_5(n,scale_factor\u001b[39m=\u001b[39;49mi, deg_factor\u001b[39m=\u001b[39;49mj)\n\u001b[1;32m      9\u001b[0m         results \u001b[39m=\u001b[39m sim\u001b[39m.\u001b[39mrun(adj_list, node_mappings)\n\u001b[1;32m     10\u001b[0m         iter_us \u001b[39m=\u001b[39m results[\u001b[39m\"\u001b[39m\u001b[39mJYP\u001b[39m\u001b[39m\"\u001b[39m]\n",
      "Cell \u001b[0;32mIn[102], line 8\u001b[0m, in \u001b[0;36malgo_5\u001b[0;34m(n, scale_factor, deg_factor)\u001b[0m\n\u001b[1;32m      6\u001b[0m \u001b[39mfor\u001b[39;00m node \u001b[39min\u001b[39;00m ibet_cent:\n\u001b[1;32m      7\u001b[0m     \u001b[39mif\u001b[39;00m node \u001b[39min\u001b[39;00m iclose_cent:\n\u001b[0;32m----> 8\u001b[0m         new_cent[node] \u001b[39m=\u001b[39m scale_factor\u001b[39m*\u001b[39mibet_cent[node]\u001b[39m+\u001b[39miclose_cent[node]\u001b[39m+\u001b[39mdeg_factor\u001b[39m*\u001b[39;49mideg_cent[node]\n\u001b[1;32m      9\u001b[0m new_top \u001b[39m=\u001b[39m [entry[\u001b[39m0\u001b[39m] \u001b[39mfor\u001b[39;00m entry \u001b[39min\u001b[39;00m \u001b[39msorted\u001b[39m(new_cent\u001b[39m.\u001b[39mitems(), key\u001b[39m=\u001b[39m\u001b[39mlambda\u001b[39;00m x: x[\u001b[39m1\u001b[39m], reverse\u001b[39m=\u001b[39m\u001b[39mTrue\u001b[39;00m)[:n]]\n\u001b[1;32m     10\u001b[0m \u001b[39mreturn\u001b[39;00m new_top\n",
      "\u001b[0;31mKeyboardInterrupt\u001b[0m: "
     ]
    }
   ],
   "source": [
    "idx, diff = optimize(adj_list)\n",
    "print(idx, diff)"
   ]
  },
  {
   "cell_type": "code",
   "execution_count": 77,
   "metadata": {},
   "outputs": [],
   "source": [
    "res = \"\"\n",
    "line = \"\"\n",
    "nodes = algo_5(n, idx)\n",
    "for node in nodes:\n",
    "    line += (node + \"\\n\")\n",
    "for i in range(50):\n",
    "    res += line"
   ]
  },
  {
   "cell_type": "code",
   "execution_count": 78,
   "metadata": {},
   "outputs": [],
   "source": [
    "# Open the file for writing\n",
    "#with open(\"RR.10.50.txt\", \"w\") as f:\n",
    "with open(\"submission.txt\", \"w\") as f:\n",
    "    # Write the string to the file\n",
    "    f.write(res)"
   ]
  }
 ],
 "metadata": {
  "kernelspec": {
   "display_name": "Python 3",
   "language": "python",
   "name": "python3"
  },
  "language_info": {
   "codemirror_mode": {
    "name": "ipython",
    "version": 3
   },
   "file_extension": ".py",
   "mimetype": "text/x-python",
   "name": "python",
   "nbconvert_exporter": "python",
   "pygments_lexer": "ipython3",
   "version": "3.9.6"
  },
  "orig_nbformat": 4,
  "vscode": {
   "interpreter": {
    "hash": "31f2aee4e71d21fbe5cf8b01ff0e069b9275f58929596ceb00d14d90e3e16cd6"
   }
  }
 },
 "nbformat": 4,
 "nbformat_minor": 2
}
